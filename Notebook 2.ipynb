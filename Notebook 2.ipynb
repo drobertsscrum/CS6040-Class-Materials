{
 "cells": [
  {
   "cell_type": "markdown",
   "metadata": {
    "deletable": false,
    "editable": false,
    "nbgrader": {
     "grade": false,
     "locked": true,
     "solution": false
    },
    "tags": [
     "notebook_header"
    ]
   },
   "source": [
    "# Association rule mining\n",
    "\n",
    "In this notebook, you'll implement the basic pairwise association rule mining algorithm.\n",
    "\n",
    "To keep the implementation simple, you will apply your implementation to a simplified dataset, namely, letters (\"items\") in words (\"receipts\" or \"baskets\"). Having finished that code, you will then apply that code to some grocery store market basket data. If you write the code well, it will not be difficult to reuse building blocks from the letter case in the basket data case."
   ]
  },
  {
   "cell_type": "code",
   "execution_count": 1,
   "metadata": {},
   "outputs": [
    {
     "name": "stdout",
     "output_type": "stream",
     "text": [
      "=== Python version ===\n",
      "3.8.7 (default, Jan 25 2021, 11:14:52) \n",
      "[GCC 5.5.0 20171010]\n"
     ]
    }
   ],
   "source": [
    "import sys\n",
    "print(f\"=== Python version ===\\n{sys.version}\")"
   ]
  },
  {
   "cell_type": "markdown",
   "metadata": {
    "deletable": false,
    "editable": false,
    "nbgrader": {
     "grade": false,
     "locked": true,
     "solution": false
    },
    "tags": [
     "topic_intro"
    ]
   },
   "source": [
    "## Problem definition\n",
    "\n",
    "Let's say you have a fragment of text in some language. You wish to know whether there are association rules among the letters that appear in a word. In this problem:\n",
    "\n",
    "- Words are \"receipts\"\n",
    "- Letters within a word are \"items\"\n",
    "\n",
    "You want to know whether there are _association rules_ of the form, $a \\implies b$, where $a$ and $b$ are letters. You will write code to do that by calculating for each rule its _confidence_, $\\mathrm{conf}(a \\implies b)$. \"Confidence\" will be another name for an estimate of the conditional probability of $b$ given $a$, or $\\mathrm{Pr}[b \\,|\\, a]$."
   ]
  },
  {
   "cell_type": "markdown",
   "metadata": {},
   "source": [
    "## Sample text input\n",
    "\n",
    "Let's carry out this analysis on a \"dummy\" text fragment, which graphic designers refer to as the [_lorem ipsum_](https://en.wikipedia.org/wiki/Lorem_ipsum):"
   ]
  },
  {
   "cell_type": "code",
   "execution_count": 2,
   "metadata": {
    "deletable": false,
    "editable": false,
    "nbgrader": {
     "grade": false,
     "locked": true,
     "solution": false
    },
    "tags": [
     "global_imports"
    ]
   },
   "outputs": [
    {
     "name": "stdout",
     "output_type": "stream",
     "text": [
      "First 100 characters:\n",
      "  \n",
      "Sed ut perspiciatis, unde omnis iste natus error sit\n",
      "voluptatem accusantium doloremque laudantium,  ...\n"
     ]
    }
   ],
   "source": [
    "latin_text = \"\"\"\n",
    "Sed ut perspiciatis, unde omnis iste natus error sit\n",
    "voluptatem accusantium doloremque laudantium, totam\n",
    "rem aperiam eaque ipsa, quae ab illo inventore\n",
    "veritatis et quasi architecto beatae vitae dicta\n",
    "sunt, explicabo. Nemo enim ipsam voluptatem, quia\n",
    "voluptas sit, aspernatur aut odit aut fugit, sed\n",
    "quia consequuntur magni dolores eos, qui ratione\n",
    "voluptatem sequi nesciunt, neque porro quisquam est,\n",
    "qui dolorem ipsum, quia dolor sit amet consectetur\n",
    "adipisci[ng] velit, sed quia non numquam [do] eius\n",
    "modi tempora inci[di]dunt, ut labore et dolore\n",
    "magnam aliquam quaerat voluptatem. Ut enim ad minima\n",
    "veniam, quis nostrum exercitationem ullam corporis\n",
    "suscipit laboriosam, nisi ut aliquid ex ea commodi\n",
    "consequatur? Quis autem vel eum iure reprehenderit,\n",
    "qui in ea voluptate velit esse, quam nihil molestiae\n",
    "consequatur, vel illum, qui dolorem eum fugiat, quo\n",
    "voluptas nulla pariatur?\n",
    "\n",
    "At vero eos et accusamus et iusto odio dignissimos\n",
    "ducimus, qui blanditiis praesentium voluptatum\n",
    "deleniti atque corrupti, quos dolores et quas\n",
    "molestias excepturi sint, obcaecati cupiditate non\n",
    "provident, similique sunt in culpa, qui officia\n",
    "deserunt mollitia animi, id est laborum et dolorum\n",
    "fuga. Et harum quidem rerum facilis est et expedita\n",
    "distinctio. Nam libero tempore, cum soluta nobis est\n",
    "eligendi optio, cumque nihil impedit, quo minus id,\n",
    "quod maxime placeat, facere possimus, omnis voluptas\n",
    "assumenda est, omnis dolor repellendus. Temporibus\n",
    "autem quibusdam et aut officiis debitis aut rerum\n",
    "necessitatibus saepe eveniet, ut et voluptates\n",
    "repudiandae sint et molestiae non recusandae. Itaque\n",
    "earum rerum hic tenetur a sapiente delectus, ut aut\n",
    "reiciendis voluptatibus maiores alias consequatur\n",
    "aut perferendis doloribus asperiores repellat.\n",
    "\"\"\"\n",
    "\n",
    "print(\"First 100 characters:\\n  {} ...\".format(latin_text[:100]))"
   ]
  },
  {
   "cell_type": "markdown",
   "metadata": {},
   "source": [
    "**Exercise 0** (ungraded). Look up and read the translation of _lorem ipsum_!"
   ]
  },
  {
   "cell_type": "markdown",
   "metadata": {
    "deletable": false,
    "editable": false,
    "nbgrader": {
     "grade": false,
     "locked": true,
     "solution": false
    },
    "tags": [
     "exercise_text"
    ]
   },
   "source": [
    "**Data cleaning.** Like most data in the real world, this dataset is noisy. It has both uppercase and lowercase letters, words have repeated letters, and there are all sorts of non-alphabetic characters. For our analysis, we should keep all the letters and spaces (so we can identify distinct words), but we should ignore case and ignore repetition within a word.\n",
    "\n",
    "For example, the eighth word of this text is \"error.\" As an _itemset_, it consists of the three unique letters, $\\{e, o, r\\}$. That is, treat the word as a set, meaning you only keep the unique letters.\n",
    "\n",
    "This itemset has three possible _itempairs_: $\\{e, o\\}$, $\\{e, r\\}$, and $\\{o, r\\}$.\n",
    "\n",
    "> Since sets are unordered, note that we would regard $\\{e, o\\} = \\{o, e\\}$, which is why we say there are only three itempairs, rather than six.\n",
    "\n",
    "Start by writing some code to help \"clean up\" the input."
   ]
  },
  {
   "cell_type": "markdown",
   "metadata": {
    "deletable": false,
    "editable": false,
    "nbgrader": {
     "grade": false,
     "locked": true,
     "solution": false
    },
    "tags": [
     "exercise_text"
    ]
   },
   "source": [
    "**Exercise 1** (2 points). Complete the following function, `normalize_string(s)`. The input `s` is a string (`str` object). The function should return a new string with (a) all characters converted to lowercase and (b) all non-alphabetic, non-whitespace characters removed.\n",
    "\n",
    "> _Clarification_. Scanning the sample text, `latin_text`, you may see things that look like special cases. For instance, `inci[di]dunt` and `[do]`. For these, simply remove the non-alphabetic characters and only separate the words if there is explicit whitespace.\n",
    ">\n",
    "> For instance, `inci[di]dunt` would become `incididunt` (as a single word) and `[do]` would become `do` as a standalone word because the original string has whitespace on either side. A period or comma without whitespace would, similarly, just be treated as a non-alphabetic character inside a word _unless_ there is explicit whitespace. So `e pluribus.unum basium` would become `e pluribusunum basium` even though your common-sense understanding might separate `pluribus` and `unum`.\n",
    ">\n",
    "> _Hint_. Regard as a whitespace character anything \"whitespace-like.\" That is, consider not just regular spaces, but also tabs, newlines, and perhaps others. To detect whitespaces easily, look for a \"high-level\" function that can help you do so rather than checking for literal space characters."
   ]
  },
  {
   "cell_type": "code",
   "execution_count": 3,
   "metadata": {
    "deletable": false,
    "editable": false,
    "nbgrader": {
     "grade": false,
     "locked": true,
     "solution": false
    },
    "tags": [
     "demo_data"
    ]
   },
   "outputs": [
    {
     "name": "stdout",
     "output_type": "stream",
     "text": [
      "\n",
      "Sed ut perspiciatis, unde omnis iste natus error sit\n",
      "voluptatem accusantium doloremque laudantium, \n"
     ]
    }
   ],
   "source": [
    "### Define demo inputs\n",
    "demo_s_ex1 = latin_text[:100]\n",
    "print(demo_s_ex1)"
   ]
  },
  {
   "cell_type": "markdown",
   "metadata": {
    "deletable": false,
    "editable": false,
    "nbgrader": {
     "grade": false,
     "locked": true,
     "solution": false
    },
    "tags": [
     "demo_output_md"
    ]
   },
   "source": [
    "<!-- Expected demo output text block -->\n",
    "The demo included in the solution cell below should display the following output:\n",
    "```\n",
    "sed ut perspiciatis unde omnis iste natus error sit\n",
    "voluptatem accusantium doloremque laudantium\n",
    "```\n",
    "<!-- Include any shout outs here -->"
   ]
  },
  {
   "cell_type": "code",
   "execution_count": 4,
   "metadata": {
    "tags": [
     "exercise_solution"
    ]
   },
   "outputs": [
    {
     "name": "stdout",
     "output_type": "stream",
     "text": [
      "\n",
      "sed ut perspiciatis unde omnis iste natus error sit\n",
      "voluptatem accusantium doloremque laudantium \n"
     ]
    }
   ],
   "source": [
    "def normalize_string(s):\n",
    "    assert type (s) is str\n",
    "    ###\n",
    "    ### YOUR CODE HERE\n",
    "    new_str = [c for c in s.lower() if c.isalpha() or c.isspace()]\n",
    "#    print(new_str)\n",
    "    new_str2 = \"\".join(new_str)\n",
    "#    print(new_str2)\n",
    "    return(new_str2)\n",
    "    ###\n",
    "    \n",
    "# Demo:\n",
    "print(normalize_string(demo_s_ex1))"
   ]
  },
  {
   "cell_type": "markdown",
   "metadata": {
    "deletable": false,
    "editable": false,
    "nbgrader": {
     "grade": false,
     "locked": true,
     "solution": false
    },
    "tags": [
     "test_data_boilerplate"
    ]
   },
   "source": [
    "<!-- Test Cell Boilerplate -->\n",
    "The cell below will test your solution for Exercise 1. The testing variables will be available for debugging under the following names in a dictionary format.\n",
    "- `input_vars` - Input variables for your solution. \n",
    "- `original_input_vars` - Copy of input variables from prior to running your solution. These _should_ be the same as `input_vars` - otherwise the inputs were modified by your solution.\n",
    "- `returned_output_vars` - Outputs returned by your solution.\n",
    "- `true_output_vars` - The expected output. This _should_ \"match\" `returned_output_vars` based on the question requirements - otherwise, your solution is not returning the correct output. "
   ]
  },
  {
   "cell_type": "code",
   "execution_count": 5,
   "metadata": {
    "deletable": false,
    "editable": false,
    "nbgrader": {
     "grade": true,
     "grade_id": "ex1",
     "locked": true,
     "points": "2",
     "solution": false
    },
    "tags": []
   },
   "outputs": [
    {
     "name": "stdout",
     "output_type": "stream",
     "text": [
      "Passed! Please submit.\n"
     ]
    }
   ],
   "source": [
    "### test_cell_ex1\n",
    "from tester_fw.testers import Tester\n",
    "\n",
    "conf = {\n",
    "    'case_file':'tc_1', \n",
    "    'func': normalize_string, # replace this with the function defined above\n",
    "    'inputs':{ # input config dict. keys are parameter names\n",
    "        's':{\n",
    "            'dtype':'str', # data type of param.\n",
    "            'check_modified':False,\n",
    "        }\n",
    "    },\n",
    "    'outputs':{\n",
    "        'output_0':{\n",
    "            'index':0,\n",
    "            'dtype':'str',\n",
    "            'check_dtype': True,\n",
    "            'check_col_dtypes': True, # Ignored if dtype is not df\n",
    "            'check_col_order': True, # Ignored if dtype is not df\n",
    "            'check_row_order': True, # Ignored if dtype is not df\n",
    "            'check_column_type': True, # Ignored if dtype is not df\n",
    "            'float_tolerance': 10 ** (-6)\n",
    "        }\n",
    "    }\n",
    "}\n",
    "tester = Tester(conf, key=b's63L2lglDfBJpcKzxpwcyy61HyKnJNBOJXl9BMyWhyo=', path='resource/asnlib/publicdata/')\n",
    "for _ in range(70):\n",
    "    try:\n",
    "        tester.run_test()\n",
    "        (input_vars, original_input_vars, returned_output_vars, true_output_vars) = tester.get_test_vars()\n",
    "    except:\n",
    "        (input_vars, original_input_vars, returned_output_vars, true_output_vars) = tester.get_test_vars()\n",
    "        raise\n",
    "print('Passed! Please submit.')"
   ]
  },
  {
   "cell_type": "markdown",
   "metadata": {
    "deletable": false,
    "editable": false,
    "nbgrader": {
     "grade": false,
     "locked": true,
     "solution": false
    },
    "tags": [
     "exercise_text"
    ]
   },
   "source": [
    "**Exercise 2** (1 point). Implement the following function, `get_normalized_words(s)`. It takes as input a string `s` (i.e., a `str` object). It should normalize `s` and then return a list of its words. (That is, the function should not assume that the input `s` is normalized yet.)"
   ]
  },
  {
   "cell_type": "code",
   "execution_count": 6,
   "metadata": {
    "deletable": false,
    "editable": false,
    "nbgrader": {
     "grade": false,
     "locked": true,
     "solution": false
    },
    "tags": [
     "demo_data"
    ]
   },
   "outputs": [
    {
     "data": {
      "text/plain": [
       "'\\nSed ut perspiciatis, unde omnis '"
      ]
     },
     "execution_count": 6,
     "metadata": {},
     "output_type": "execute_result"
    }
   ],
   "source": [
    "### Define demo inputs\n",
    "\n",
    "demo_s_ex2 = latin_text[:33]\n",
    "demo_s_ex2"
   ]
  },
  {
   "cell_type": "markdown",
   "metadata": {
    "deletable": false,
    "editable": false,
    "nbgrader": {
     "grade": false,
     "locked": true,
     "solution": false
    },
    "tags": [
     "demo_output_md"
    ]
   },
   "source": [
    "<!-- Expected demo output text block -->\n",
    "The demo included in the solution cell below should display the following output:\n",
    "```\n",
    "['sed', 'ut', 'perspiciatis', 'unde', 'omnis']\n",
    "```\n",
    "<!-- Include any shout outs here -->"
   ]
  },
  {
   "cell_type": "code",
   "execution_count": 7,
   "metadata": {
    "tags": [
     "exercise_solution"
    ]
   },
   "outputs": [
    {
     "name": "stdout",
     "output_type": "stream",
     "text": [
      "['sed', 'ut', 'perspiciatis', 'unde', 'omnis']\n"
     ]
    }
   ],
   "source": [
    "def get_normalized_words (s):\n",
    "    assert type(s) is str\n",
    "    ###\n",
    "    ### YOUR CODE HERE\n",
    "    normalized_words = \"\"\n",
    "    normalized_words = normalize_string(s)\n",
    "#    print(normalized_words)\n",
    "    normalized_list = []\n",
    "    normalized_list = normalized_words.split()\n",
    "#    print(normalized_list)\n",
    "    return normalized_list\n",
    "    ###\n",
    "\n",
    "# Demo:\n",
    "print(get_normalized_words(demo_s_ex2))"
   ]
  },
  {
   "cell_type": "markdown",
   "metadata": {
    "deletable": false,
    "editable": false,
    "nbgrader": {
     "grade": false,
     "locked": true,
     "solution": false
    },
    "tags": [
     "test_data_boilerplate"
    ]
   },
   "source": [
    "<!-- Test Cell Boilerplate -->\n",
    "The cell below will test your solution for Exercise 2. The testing variables will be available for debugging under the following names in a dictionary format.\n",
    "- `input_vars` - Input variables for your solution. \n",
    "- `original_input_vars` - Copy of input variables from prior to running your solution. These _should_ be the same as `input_vars` - otherwise the inputs were modified by your solution.\n",
    "- `returned_output_vars` - Outputs returned by your solution.\n",
    "- `true_output_vars` - The expected output. This _should_ \"match\" `returned_output_vars` based on the question requirements - otherwise, your solution is not returning the correct output. "
   ]
  },
  {
   "cell_type": "code",
   "execution_count": 8,
   "metadata": {
    "deletable": false,
    "editable": false,
    "nbgrader": {
     "grade": true,
     "grade_id": "ex2",
     "locked": true,
     "points": "1",
     "solution": false
    },
    "tags": []
   },
   "outputs": [
    {
     "name": "stdout",
     "output_type": "stream",
     "text": [
      "Passed! Please submit.\n"
     ]
    }
   ],
   "source": [
    "### test_cell_ex2\n",
    "\n",
    "from tester_fw.testers import Tester\n",
    "\n",
    "conf = {\n",
    "    'case_file':'tc_2', \n",
    "    'func': get_normalized_words, # replace this with the function defined above\n",
    "    'inputs':{ # input config dict. keys are parameter names\n",
    "        's':{\n",
    "            'dtype':'str', # data type of param.\n",
    "            'check_modified':False,\n",
    "        }\n",
    "    },\n",
    "    'outputs':{\n",
    "        'output_0':{\n",
    "            'index':0,\n",
    "            'dtype':'',\n",
    "            'check_dtype': True,\n",
    "            'check_col_dtypes': True, # Ignored if dtype is not df\n",
    "            'check_col_order': True, # Ignored if dtype is not df\n",
    "            'check_row_order': True, # Ignored if dtype is not df\n",
    "            'check_column_type': True, # Ignored if dtype is not df\n",
    "            'float_tolerance': 10 ** (-6)\n",
    "        }\n",
    "    }\n",
    "}\n",
    "tester = Tester(conf, key=b's63L2lglDfBJpcKzxpwcyy61HyKnJNBOJXl9BMyWhyo=', path='resource/asnlib/publicdata/')\n",
    "for _ in range(70):\n",
    "    try:\n",
    "        tester.run_test()\n",
    "        (input_vars, original_input_vars, returned_output_vars, true_output_vars) = tester.get_test_vars()\n",
    "    except:\n",
    "        (input_vars, original_input_vars, returned_output_vars, true_output_vars) = tester.get_test_vars()\n",
    "        raise\n",
    "\n",
    "print('Passed! Please submit.')"
   ]
  },
  {
   "cell_type": "markdown",
   "metadata": {
    "deletable": false,
    "editable": false,
    "nbgrader": {
     "grade": false,
     "locked": true,
     "solution": false
    },
    "tags": [
     "exercise_text"
    ]
   },
   "source": [
    "**Exercise 3** (2 points). Implement a function, `make_itemsets_unstructured_text(text)`. The input, `text`, is a string of unstructured text (like the `latin_text` example above). Your function should get the normalized words from the text, convert the characters of each word into an itemset and then return the list of all itemsets. These output itemsets should appear in the same order as their corresponding words in the input. You may find it helpful to call `get_normalized_words` in your solution."
   ]
  },
  {
   "cell_type": "code",
   "execution_count": 9,
   "metadata": {
    "collapsed": true,
    "deletable": false,
    "editable": false,
    "nbgrader": {
     "grade": false,
     "locked": true,
     "solution": false
    },
    "tags": [
     "demo_data"
    ]
   },
   "outputs": [],
   "source": [
    "### Define demo inputs\n",
    "demo_text_ex3 = 'sed \\tut, perspiciatis\\n und.e omnis'"
   ]
  },
  {
   "cell_type": "markdown",
   "metadata": {
    "deletable": false,
    "editable": false,
    "nbgrader": {
     "grade": false,
     "locked": true,
     "solution": false
    },
    "tags": [
     "demo_output_md"
    ]
   },
   "source": [
    "<!-- Expected demo output text block -->\n",
    "The demo included in the solution cell below should display the following output:\n",
    "```\n",
    "[{'d', 'e', 's'},\n",
    " {'t', 'u'},\n",
    " {'a', 'c', 'e', 'i', 'p', 'r', 's', 't'},\n",
    " {'d', 'e', 'n', 'u'},\n",
    " {'i', 'm', 'n', 'o', 's'}]\n",
    "```\n",
    "<!-- Include any shout outs here -->\n",
    "> Because sets are unordered, different versions of Python may produce sets with whose element-ordering differs from what you see above. However, the sets themselves should be in this order in the output list, since that is the order in which the corresponding words were given."
   ]
  },
  {
   "cell_type": "code",
   "execution_count": 10,
   "metadata": {
    "tags": [
     "exercise_solution"
    ]
   },
   "outputs": [
    {
     "data": {
      "text/plain": [
       "[{'d', 'e', 's'},\n",
       " {'t', 'u'},\n",
       " {'a', 'c', 'e', 'i', 'p', 'r', 's', 't'},\n",
       " {'d', 'e', 'n', 'u'},\n",
       " {'i', 'm', 'n', 'o', 's'}]"
      ]
     },
     "execution_count": 10,
     "metadata": {},
     "output_type": "execute_result"
    }
   ],
   "source": [
    "def make_itemsets_unstructured_text(text):\n",
    "    ###\n",
    "    ### YOUR CODE HERE\n",
    "    normalized_words = []\n",
    "    normalized_words = get_normalized_words(text)\n",
    "#    print(normalized_words)\n",
    "\n",
    "    return [set(normalized_set) for normalized_set in normalized_words]\n",
    "    ###\n",
    "    \n",
    "make_itemsets_unstructured_text(demo_text_ex3)"
   ]
  },
  {
   "cell_type": "markdown",
   "metadata": {
    "deletable": false,
    "editable": false,
    "nbgrader": {
     "grade": false,
     "locked": true,
     "solution": false
    },
    "tags": [
     "test_data_boilerplate"
    ]
   },
   "source": [
    "<!-- Test Cell Boilerplate -->\n",
    "The cell below will test your solution for Exercise 3. The testing variables will be available for debugging under the following names in a dictionary format.\n",
    "- `input_vars` - Input variables for your solution. \n",
    "- `original_input_vars` - Copy of input variables from prior to running your solution. These _should_ be the same as `input_vars` - otherwise the inputs were modified by your solution.\n",
    "- `returned_output_vars` - Outputs returned by your solution.\n",
    "- `true_output_vars` - The expected output. This _should_ \"match\" `returned_output_vars` based on the question requirements - otherwise, your solution is not returning the correct output. "
   ]
  },
  {
   "cell_type": "code",
   "execution_count": 11,
   "metadata": {
    "deletable": false,
    "editable": false,
    "nbgrader": {
     "grade": true,
     "grade_id": "ex3",
     "locked": true,
     "points": "2",
     "solution": false
    },
    "tags": []
   },
   "outputs": [
    {
     "name": "stdout",
     "output_type": "stream",
     "text": [
      "Passed! Please submit.\n"
     ]
    }
   ],
   "source": [
    "### test_cell_ex3\n",
    "\n",
    "from tester_fw.testers import Tester\n",
    "\n",
    "conf = {\n",
    "    'case_file':'tc_3', \n",
    "    'func': make_itemsets_unstructured_text, # replace this with the function defined above\n",
    "    'inputs':{ # input config dict. keys are parameter names\n",
    "        'text':{\n",
    "            'dtype':'list', # data type of param.\n",
    "            'check_modified':True,\n",
    "        }\n",
    "    },\n",
    "    'outputs':{\n",
    "        'output_0':{\n",
    "            'index':0,\n",
    "            'dtype':'list',\n",
    "            'check_dtype': True,\n",
    "            'check_col_dtypes': True, # Ignored if dtype is not df\n",
    "            'check_col_order': True, # Ignored if dtype is not df\n",
    "            'check_row_order': True, # Ignored if dtype is not df\n",
    "            'check_column_type': True, # Ignored if dtype is not df\n",
    "            'float_tolerance': 10 ** (-6)\n",
    "        }\n",
    "    }\n",
    "}\n",
    "tester = Tester(conf, key=b's63L2lglDfBJpcKzxpwcyy61HyKnJNBOJXl9BMyWhyo=', path='resource/asnlib/publicdata/')\n",
    "for _ in range(70):\n",
    "    try:\n",
    "        tester.run_test()\n",
    "        (input_vars, original_input_vars, returned_output_vars, true_output_vars) = tester.get_test_vars()\n",
    "    except:\n",
    "        (input_vars, original_input_vars, returned_output_vars, true_output_vars) = tester.get_test_vars()\n",
    "        raise\n",
    "\n",
    "print('Passed! Please submit.')"
   ]
  },
  {
   "cell_type": "markdown",
   "metadata": {},
   "source": [
    "## Implementing the basic algorithm\n",
    "\n",
    "Recall the pseudocode for the algorithm that Rachel and Rich derived together:\n",
    "\n",
    "![FindAssocRules (pseudocode)](https://ndownloader.figshare.com/files/7635700?private_link=3c473609741895a5cc2c)\n",
    "\n",
    "In the following series of exercises, let's implement this method. We'll build it \"bottom-up,\" first defining small pieces and working our way toward the complete algorithm. This method allows us to test each piece before combining them.\n",
    "\n",
    "Observe that the bulk of the work in this procedure is just updating these tables, $T$ and $C$. So your biggest implementation decision is how to store those. A good choice is to use a dictionary"
   ]
  },
  {
   "cell_type": "markdown",
   "metadata": {},
   "source": [
    "## Aside: Default dictionaries\n",
    "\n",
    "Recall that the overall algorithm requires maintaining a table of item-pair (tuples) counts. It would be convenient to use a dictionary to store this table, where keys refer to item-pairs and the values are the counts.\n",
    "\n",
    "However, with Python's built-in dictionaries, you always to have to check whether a key exists before updating it. For example, consider this code fragment:\n",
    "\n",
    "```python\n",
    "D = {'existing-key': 5} # Dictionary with one key-value pair\n",
    "\n",
    "D['existing-key'] += 1 # == 6\n",
    "D['new-key'] += 1  # Error: 'new-key' does not exist!\n",
    "```\n",
    "\n",
    "The second attempt causes an error because `'new-key'` is not yet a member of the dictionary. So, a more correct approach would be to do the following:\n",
    "\n",
    "```python\n",
    "D = {'existing-key': 5} # Dictionary with one key-value pair\n",
    "\n",
    "if 'existing-key' not in D:\n",
    "    D['existing-key'] = 0\n",
    "D['existing-key'] += 1\n",
    "   \n",
    "if 'new-key' not in D:\n",
    "    D['new-key'] = 0\n",
    "D['new-key'] += 1\n",
    "```\n",
    "\n",
    "This pattern is so common that there is a special form of dictionary, called a _default dictionary_, which is available from the `collections` module: [`collections.defaultdict`](https://docs.python.org/3/library/collections.html?highlight=defaultdict#collections.defaultdict).\n",
    "\n",
    "When you create a default dictionary, you need to provide a \"factory\" function that the dictionary can use to create an initial value when the key does *not* exist. For instance, in the preceding example, when the key was not present the code creates a new key with the initial value of an integer zero (0). Indeed, this default value is the one you get when you call `int()` with no arguments:"
   ]
  },
  {
   "cell_type": "code",
   "execution_count": 12,
   "metadata": {},
   "outputs": [
    {
     "name": "stdout",
     "output_type": "stream",
     "text": [
      "0\n"
     ]
    }
   ],
   "source": [
    "print(int())"
   ]
  },
  {
   "cell_type": "code",
   "execution_count": 13,
   "metadata": {},
   "outputs": [
    {
     "name": "stdout",
     "output_type": "stream",
     "text": [
      "defaultdict(<class 'int'>, {'existing-key': 6, 'new-key': 1})\n"
     ]
    }
   ],
   "source": [
    "from collections import defaultdict\n",
    "\n",
    "D2 = defaultdict(int) # Empty dictionary\n",
    "\n",
    "D2['existing-key'] = 5 # Create one key-value pair\n",
    "\n",
    "D2['existing-key'] += 1 # Update\n",
    "D2['new-key'] += 1\n",
    "\n",
    "print(D2)"
   ]
  },
  {
   "cell_type": "markdown",
   "metadata": {
    "deletable": false,
    "editable": false,
    "nbgrader": {
     "grade": false,
     "locked": true,
     "solution": false
    },
    "tags": [
     "exercise_text"
    ]
   },
   "source": [
    "**Exercise 4** (2 points). Start by implementing a function that enumerates all item-pairs within an itemset and updates, _in-place_, a table that tracks the counts of those item-pairs.\n",
    "\n",
    "The signature of this function is:\n",
    "\n",
    "```python\n",
    "   def update_pair_counts(pair_counts, itemset):\n",
    "       ...\n",
    "```\n",
    "\n",
    "where `pair_counts` is the table to update and `itemset` is the itemset from which you need to enumerate item-pairs. You may assume `pair_counts` is a default dictionary. Each key is a pair of items `(a, b)`, and each value is the count. You may assume all items in `itemset` are distinct, i.e., that you may treat it as you would any set-like collection. Since the function will modify `pair_counts`, it does not need to return an object."
   ]
  },
  {
   "cell_type": "code",
   "execution_count": 14,
   "metadata": {
    "collapsed": true,
    "deletable": false,
    "editable": false,
    "nbgrader": {
     "grade": false,
     "locked": true,
     "solution": false
    },
    "tags": [
     "demo_data"
    ]
   },
   "outputs": [],
   "source": [
    "### Define demo inputs\n",
    "demo_itemset_ex4 = {'f', 'r', 'o', 'g'}\n",
    "demo_pair_counts_ex4 = defaultdict(int)\n",
    "demo_pair_counts_ex4.update(\n",
    "            {('o', 'e'): 1,\n",
    "             ('e', 'o'): 1,\n",
    "             ('o', 'r'): 1,\n",
    "             ('r', 'o'): 1,\n",
    "             ('e', 'r'): 1,\n",
    "             ('r', 'e'): 1})\n",
    "\n",
    "# This wrapper will return the updated pair_counts as a new object without modifying the original. \n",
    "# It's convenient for testing!\n",
    "def update_pair_counts_wrapper(pair_counts, itemset):\n",
    "    from copy import deepcopy\n",
    "    pair_counts_cp = deepcopy(pair_counts)\n",
    "    update_pair_counts(pair_counts_cp, itemset)\n",
    "    return pair_counts_cp"
   ]
  },
  {
   "cell_type": "markdown",
   "metadata": {
    "deletable": false,
    "editable": false,
    "nbgrader": {
     "grade": false,
     "locked": true,
     "solution": false
    },
    "tags": [
     "demo_output_md"
    ]
   },
   "source": [
    "<!-- Expected demo output text block -->\n",
    "The demo included in the solution cell below should display the following output:\n",
    "```\n",
    "defaultdict(int,\n",
    "            {('o', 'e'): 1,\n",
    "             ('e', 'o'): 1,\n",
    "             ('o', 'r'): 2,\n",
    "             ('r', 'o'): 2,\n",
    "             ('e', 'r'): 1,\n",
    "             ('r', 'e'): 1,\n",
    "             ('f', 'o'): 1,\n",
    "             ('o', 'f'): 1,\n",
    "             ('f', 'r'): 1,\n",
    "             ('r', 'f'): 1,\n",
    "             ('f', 'g'): 1,\n",
    "             ('g', 'f'): 1,\n",
    "             ('o', 'g'): 1,\n",
    "             ('g', 'o'): 1,\n",
    "             ('r', 'g'): 1,\n",
    "             ('g', 'r'): 1})\n",
    "```\n",
    "> Note: This displayed output is `demo_pair_counts_ex4` which was updated _in place_. Your solution does not need to return any object."
   ]
  },
  {
   "cell_type": "code",
   "execution_count": 15,
   "metadata": {
    "tags": [
     "exercise_solution"
    ]
   },
   "outputs": [
    {
     "data": {
      "text/plain": [
       "defaultdict(int,\n",
       "            {('o', 'e'): 1,\n",
       "             ('e', 'o'): 1,\n",
       "             ('o', 'r'): 2,\n",
       "             ('r', 'o'): 2,\n",
       "             ('e', 'r'): 1,\n",
       "             ('r', 'e'): 1,\n",
       "             ('g', 'r'): 1,\n",
       "             ('r', 'g'): 1,\n",
       "             ('g', 'f'): 1,\n",
       "             ('f', 'g'): 1,\n",
       "             ('g', 'o'): 1,\n",
       "             ('o', 'g'): 1,\n",
       "             ('r', 'f'): 1,\n",
       "             ('f', 'r'): 1,\n",
       "             ('f', 'o'): 1,\n",
       "             ('o', 'f'): 1})"
      ]
     },
     "execution_count": 15,
     "metadata": {},
     "output_type": "execute_result"
    }
   ],
   "source": [
    "from collections import defaultdict\n",
    "import itertools # Hint!\n",
    "from itertools import combinations\n",
    "\n",
    "def update_pair_counts (pair_counts, itemset):\n",
    "    \"\"\"\n",
    "    Updates a dictionary of pair counts for\n",
    "    all pairs of items in a given itemset.\n",
    "    \"\"\"\n",
    "    assert type (pair_counts) is defaultdict\n",
    "\n",
    "    ###\n",
    "    ### YOUR CODE HERE\n",
    "    # Keys will be a and b. Basically given a is b there.\n",
    "#    print(\"pair counts = \", pair_counts)\n",
    "#    print(\"itemset = \", itemset)\n",
    "    \n",
    "    #Displaying how the combinations function works\n",
    "    \n",
    "    sample_list = []\n",
    "    sample_list = list(combinations(itemset,2))\n",
    "#    print(\"sample list = \", sample_list)\n",
    "    \n",
    "    for (a,b) in combinations(itemset,2):\n",
    "        pair_counts[(a,b)] += 1\n",
    "        pair_counts[(b,a)] += 1\n",
    "#    print(\"Return pair counts = \", pair_counts)    \n",
    "    return pair_counts       \n",
    "    ###\n",
    "update_pair_counts_wrapper(demo_pair_counts_ex4, demo_itemset_ex4)\n"
   ]
  },
  {
   "cell_type": "markdown",
   "metadata": {
    "deletable": false,
    "editable": false,
    "nbgrader": {
     "grade": false,
     "locked": true,
     "solution": false
    },
    "tags": [
     "test_data_boilerplate"
    ]
   },
   "source": [
    "<!-- Test Cell Boilerplate -->\n",
    "The cell below will test your solution for Exercise 4. The testing variables will be available for debugging under the following names in a dictionary format.\n",
    "- `input_vars` - Input variables for your solution. \n",
    "- `original_input_vars` - Copy of input variables from prior to running your solution. These _should_ be the same as `input_vars` - otherwise the inputs were modified by your solution.\n",
    "- `returned_output_vars` - Outputs returned by your solution.\n",
    "- `true_output_vars` - The expected output. This _should_ \"match\" `returned_output_vars` based on the question requirements - otherwise, your solution is not returning the correct output. "
   ]
  },
  {
   "cell_type": "code",
   "execution_count": 16,
   "metadata": {
    "deletable": false,
    "editable": false,
    "nbgrader": {
     "grade": true,
     "grade_id": "ex4",
     "locked": true,
     "points": "2",
     "solution": false
    },
    "tags": []
   },
   "outputs": [
    {
     "name": "stdout",
     "output_type": "stream",
     "text": [
      "Passed! Please submit.\n"
     ]
    }
   ],
   "source": [
    "### test_cell_ex4\n",
    "\n",
    "from tester_fw.testers import Tester\n",
    "\n",
    "conf = {\n",
    "    'case_file':'tc_4', \n",
    "    'func': update_pair_counts_wrapper, # replace this with the function defined above\n",
    "    'inputs':{ # input config dict. keys are parameter names\n",
    "        'pair_counts':{\n",
    "            'dtype':'defaultdict', # data type of param.\n",
    "            'check_modified':True,\n",
    "        },\n",
    "        'itemset':{\n",
    "            'dtype':'set', # data type of param.\n",
    "            'check_modified':False,\n",
    "        }\n",
    "    },\n",
    "    'outputs':{\n",
    "        'output_0':{\n",
    "            'index':0,\n",
    "            'dtype':'defaultdict',\n",
    "            'check_dtype': False,\n",
    "            'check_col_dtypes': False, # Ignored if dtype is not df\n",
    "            'check_col_order': False, # Ignored if dtype is not df\n",
    "            'check_row_order': False, # Ignored if dtype is not df\n",
    "            'check_column_type': False, # Ignored if dtype is not df\n",
    "            'float_tolerance': 10 ** (-6)\n",
    "        }\n",
    "    }\n",
    "}\n",
    "tester = Tester(conf, key=b's63L2lglDfBJpcKzxpwcyy61HyKnJNBOJXl9BMyWhyo=', path='resource/asnlib/publicdata/')\n",
    "for _ in range(70):\n",
    "    try:\n",
    "        tester.run_test()\n",
    "        (input_vars, original_input_vars, returned_output_vars, true_output_vars) = tester.get_test_vars()\n",
    "    except:\n",
    "        (input_vars, original_input_vars, returned_output_vars, true_output_vars) = tester.get_test_vars()\n",
    "        raise\n",
    "\n",
    "\n",
    "print('Passed! Please submit.')"
   ]
  },
  {
   "cell_type": "markdown",
   "metadata": {
    "deletable": false,
    "editable": false,
    "nbgrader": {
     "grade": false,
     "locked": true,
     "solution": false
    },
    "tags": [
     "exercise_text"
    ]
   },
   "source": [
    "**Exercise 5** (2 points). Implement a procedure that, given an itemset, updates a table to track counts of each item.\n",
    "\n",
    "As with the previous exercise, you may assume all items in the given itemset (`itemset`) are distinct, i.e., that you may treat it as you would any set-like collection. You may also assume the table (`item_counts`) is a default dictionary."
   ]
  },
  {
   "cell_type": "code",
   "execution_count": 17,
   "metadata": {
    "collapsed": true,
    "deletable": false,
    "editable": false,
    "nbgrader": {
     "grade": false,
     "locked": true,
     "solution": false
    },
    "tags": [
     "demo_data"
    ]
   },
   "outputs": [],
   "source": [
    "### Define demo inputs\n",
    "demo_item_counts_ex5 = defaultdict(int)\n",
    "demo_item_counts_ex5.update({'o': 1, 'e': 1, 'r': 1})\n",
    "demo_itemset_ex5 = {'f', 'r', 'o', 'g'}\n",
    "\n",
    "def update_item_counts_wrapper(item_counts, itemset):\n",
    "    from copy import deepcopy\n",
    "    item_counts_cp = deepcopy(item_counts)\n",
    "    update_item_counts(item_counts_cp, itemset)\n",
    "    return item_counts_cp"
   ]
  },
  {
   "cell_type": "markdown",
   "metadata": {
    "deletable": false,
    "editable": false,
    "nbgrader": {
     "grade": false,
     "locked": true,
     "solution": false
    },
    "tags": [
     "demo_output_md"
    ]
   },
   "source": [
    "<!-- Expected demo output text block -->\n",
    "The demo included in the solution cell below should display the following output:\n",
    "```\n",
    "defaultdict(int, {'o': 2, 'e': 1, 'r': 2, 'f': 1, 'g': 1})\n",
    "```\n",
    "<!-- Include any shout outs here -->"
   ]
  },
  {
   "cell_type": "code",
   "execution_count": 18,
   "metadata": {
    "tags": [
     "exercise_solution"
    ]
   },
   "outputs": [
    {
     "data": {
      "text/plain": [
       "defaultdict(int, {'o': 2, 'e': 1, 'r': 2, 'g': 1, 'f': 1})"
      ]
     },
     "execution_count": 18,
     "metadata": {},
     "output_type": "execute_result"
    }
   ],
   "source": [
    "def update_item_counts(item_counts, itemset):\n",
    "    ###\n",
    "    ### YOUR CODE HERE\n",
    "    #a is a Key\n",
    "    #Increment item counts by each key of a, for example the key r is 2\n",
    "    for (a) in itemset:\n",
    "        item_counts[a] += 1\n",
    "    \n",
    "#    print('Item counts = ', item_counts)\n",
    "    return item_counts\n",
    "    ###\n",
    "update_item_counts_wrapper(demo_item_counts_ex5, demo_itemset_ex5)"
   ]
  },
  {
   "cell_type": "markdown",
   "metadata": {
    "deletable": false,
    "editable": false,
    "nbgrader": {
     "grade": false,
     "locked": true,
     "solution": false
    },
    "tags": [
     "test_data_boilerplate"
    ]
   },
   "source": [
    "<!-- Test Cell Boilerplate -->\n",
    "The cell below will test your solution for Exercise 5. The testing variables will be available for debugging under the following names in a dictionary format.\n",
    "- `input_vars` - Input variables for your solution. \n",
    "- `original_input_vars` - Copy of input variables from prior to running your solution. These _should_ be the same as `input_vars` - otherwise the inputs were modified by your solution.\n",
    "- `returned_output_vars` - Outputs returned by your solution.\n",
    "- `true_output_vars` - The expected output. This _should_ \"match\" `returned_output_vars` based on the question requirements - otherwise, your solution is not returning the correct output. "
   ]
  },
  {
   "cell_type": "code",
   "execution_count": 19,
   "metadata": {
    "deletable": false,
    "editable": false,
    "nbgrader": {
     "grade": true,
     "grade_id": "ex5",
     "locked": true,
     "points": "2",
     "solution": false
    },
    "tags": []
   },
   "outputs": [
    {
     "name": "stdout",
     "output_type": "stream",
     "text": [
      "Passed! Please submit.\n"
     ]
    }
   ],
   "source": [
    "### test_cell_ex5\n",
    "\n",
    "from tester_fw.testers import Tester\n",
    "\n",
    "conf = {\n",
    "    'case_file':'tc_5', \n",
    "    'func': update_item_counts_wrapper, # replace this with the function defined above\n",
    "    'inputs':{ # input config dict. keys are parameter names\n",
    "        'item_counts':{\n",
    "            'dtype':'defaultdict', # data type of param.\n",
    "            'check_modified':False,\n",
    "        },\n",
    "        'itemset':{\n",
    "            'dtype':'set', # data type of param.\n",
    "            'check_modified':False,\n",
    "        }\n",
    "    },\n",
    "    'outputs':{\n",
    "        'output_0':{\n",
    "            'index':0,\n",
    "            'dtype':'defaultdict',\n",
    "            'check_dtype': False,\n",
    "            'check_col_dtypes': False, # Ignored if dtype is not df\n",
    "            'check_col_order': False, # Ignored if dtype is not df\n",
    "            'check_row_order': False, # Ignored if dtype is not df\n",
    "            'check_column_type': False, # Ignored if dtype is not df\n",
    "            'float_tolerance': 10 ** (-6)\n",
    "        }\n",
    "    }\n",
    "}\n",
    "tester = Tester(conf, key=b's63L2lglDfBJpcKzxpwcyy61HyKnJNBOJXl9BMyWhyo=', path='resource/asnlib/publicdata/')\n",
    "for _ in range(70):\n",
    "    try:\n",
    "        tester.run_test()\n",
    "        (input_vars, original_input_vars, returned_output_vars, true_output_vars) = tester.get_test_vars()\n",
    "    except:\n",
    "        (input_vars, original_input_vars, returned_output_vars, true_output_vars) = tester.get_test_vars()\n",
    "        raise\n",
    "\n",
    "print('Passed! Please submit.')"
   ]
  },
  {
   "cell_type": "markdown",
   "metadata": {
    "deletable": false,
    "editable": false,
    "nbgrader": {
     "grade": false,
     "locked": true,
     "solution": false
    },
    "tags": [
     "exercise_text"
    ]
   },
   "source": [
    "**Exercise 6** (2 points). Define `create_rules_from_counts` as follows: \n",
    "Given tables of item-pair counts (`pair_counts`) and individual item counts (`item_counts`) (You can assume both are default dictionaries), return all of the rules. The returned rules should be in the form of a dictionary whose key is the tuple, $(a, b)$ corresponding to the rule $a \\Rightarrow b$, and whose value is the confidence of the rule, $\\mathrm{conf}(a \\Rightarrow b)$. \n",
    "\n",
    "You may assume that if $(a, b)$ is in the table of item-pair counts, then both $a$ and $b$ are in the table of individual item counts."
   ]
  },
  {
   "cell_type": "code",
   "execution_count": 20,
   "metadata": {
    "collapsed": true,
    "deletable": false,
    "editable": false,
    "nbgrader": {
     "grade": false,
     "locked": true,
     "solution": false
    },
    "tags": [
     "demo_data"
    ]
   },
   "outputs": [],
   "source": [
    "### Define demo inputs\n",
    "\n",
    "demo_item_counts_ex7 = {'blue fish': 44, 'one fish': 47, 'red fish': 100, 'two fish': 74}\n",
    "demo_pair_counts_ex7 = {('blue fish', 'one fish'): 16,\n",
    "                        ('one fish', 'blue fish'): 16,\n",
    "                        ('blue fish', 'red fish'): 36,\n",
    "                        ('red fish', 'blue fish'): 36,\n",
    "                        ('blue fish', 'two fish'): 27,\n",
    "                        ('two fish', 'blue fish'): 27,\n",
    "                        ('one fish', 'red fish'): 38,\n",
    "                        ('red fish', 'one fish'): 38,\n",
    "                        ('one fish', 'two fish'): 28,\n",
    "                        ('two fish', 'one fish'): 28,\n",
    "                        ('red fish', 'two fish'): 59,\n",
    "                        ('two fish', 'red fish'): 59}"
   ]
  },
  {
   "cell_type": "markdown",
   "metadata": {
    "deletable": false,
    "editable": false,
    "nbgrader": {
     "grade": false,
     "locked": true,
     "solution": false
    },
    "tags": [
     "demo_output_md"
    ]
   },
   "source": [
    "<!-- Expected demo output text block -->\n",
    "The demo included in the solution cell below should display the following output:\n",
    "```\n",
    "{('blue fish', 'one fish'): 0.36363636363636365,\n",
    " ('one fish', 'blue fish'): 0.3404255319148936,\n",
    " ('blue fish', 'red fish'): 0.8181818181818182,\n",
    " ('red fish', 'blue fish'): 0.36,\n",
    " ('blue fish', 'two fish'): 0.6136363636363636,\n",
    " ('two fish', 'blue fish'): 0.36486486486486486,\n",
    " ('one fish', 'red fish'): 0.8085106382978723,\n",
    " ('red fish', 'one fish'): 0.38,\n",
    " ('one fish', 'two fish'): 0.5957446808510638,\n",
    " ('two fish', 'one fish'): 0.3783783783783784,\n",
    " ('red fish', 'two fish'): 0.59,\n",
    " ('two fish', 'red fish'): 0.7972972972972973}\n",
    "```\n",
    "<!-- Include any shout outs here -->\n",
    "> Note: The items in the \"counts\" dictionaries are phrases, not just letters! You don't need any special logic to handle this. It's just something to notice.  \n",
    "  \n",
    "> Note: If you did the division indirectly your result might not match \"exactly\". There's more in other notebooks on why that is. However, we have accounted for it in the testing, so don't worry as long as you're \"reasonably close\"."
   ]
  },
  {
   "cell_type": "code",
   "execution_count": 21,
   "metadata": {
    "tags": [
     "exercise_solution"
    ]
   },
   "outputs": [
    {
     "data": {
      "text/plain": [
       "{('blue fish', 'one fish'): 0.36363636363636365,\n",
       " ('one fish', 'blue fish'): 0.3404255319148936,\n",
       " ('blue fish', 'red fish'): 0.8181818181818182,\n",
       " ('red fish', 'blue fish'): 0.36,\n",
       " ('blue fish', 'two fish'): 0.6136363636363636,\n",
       " ('two fish', 'blue fish'): 0.36486486486486486,\n",
       " ('one fish', 'red fish'): 0.8085106382978723,\n",
       " ('red fish', 'one fish'): 0.38,\n",
       " ('one fish', 'two fish'): 0.5957446808510638,\n",
       " ('two fish', 'one fish'): 0.3783783783783784,\n",
       " ('red fish', 'two fish'): 0.59,\n",
       " ('two fish', 'red fish'): 0.7972972972972973}"
      ]
     },
     "execution_count": 21,
     "metadata": {},
     "output_type": "execute_result"
    }
   ],
   "source": [
    "def create_rules_from_counts(pair_counts, item_counts):\n",
    "    rules = {} # (item_a, item_b) -> conf (item_a => item_b)\n",
    "    ###\n",
    "    ### YOUR CODE HERE\n",
    "    for (a,b) in pair_counts:\n",
    "        assert a in item_counts\n",
    "        confidence_ab = pair_counts[(a,b)]/ item_counts[a]\n",
    "        rules[(a,b)] = confidence_ab\n",
    "    ###\n",
    "    return rules\n",
    "rules = create_rules_from_counts(demo_pair_counts_ex7, demo_item_counts_ex7)\n",
    "rules"
   ]
  },
  {
   "cell_type": "markdown",
   "metadata": {
    "deletable": false,
    "editable": false,
    "nbgrader": {
     "grade": false,
     "locked": true,
     "solution": false
    },
    "tags": [
     "test_data_boilerplate"
    ]
   },
   "source": [
    "<!-- Test Cell Boilerplate -->\n",
    "The cell below will test your solution for Exercise 6. The testing variables will be available for debugging under the following names in a dictionary format.\n",
    "- `input_vars` - Input variables for your solution. \n",
    "- `original_input_vars` - Copy of input variables from prior to running your solution. These _should_ be the same as `input_vars` - otherwise the inputs were modified by your solution.\n",
    "- `returned_output_vars` - Outputs returned by your solution.\n",
    "- `true_output_vars` - The expected output. This _should_ \"match\" `returned_output_vars` based on the question requirements - otherwise, your solution is not returning the correct output. "
   ]
  },
  {
   "cell_type": "code",
   "execution_count": 22,
   "metadata": {
    "deletable": false,
    "editable": false,
    "nbgrader": {
     "grade": true,
     "grade_id": "ex6",
     "locked": true,
     "points": "2",
     "solution": false
    },
    "tags": []
   },
   "outputs": [
    {
     "name": "stdout",
     "output_type": "stream",
     "text": [
      "Passed! Please submit.\n"
     ]
    }
   ],
   "source": [
    "### test_cell_ex6\n",
    "\n",
    "from tester_fw.testers import Tester\n",
    "\n",
    "conf = {\n",
    "    'case_file':'tc_6', \n",
    "    'func': create_rules_from_counts, # replace this with the function defined above\n",
    "    'inputs':{ # input config dict. keys are parameter names\n",
    "        'pair_counts':{\n",
    "            'dtype':'dict', # data type of param.\n",
    "            'check_modified':True,\n",
    "        },\n",
    "        'item_counts':{\n",
    "            'dtype':'dict', # data type of param.\n",
    "            'check_modified':True,\n",
    "        }\n",
    "    },\n",
    "    'outputs':{\n",
    "        'output_0':{\n",
    "            'index':0,\n",
    "            'dtype':'dict',\n",
    "            'check_dtype': True,\n",
    "            'check_col_dtypes': False, # Ignored if dtype is not df\n",
    "            'check_col_order': False, # Ignored if dtype is not df\n",
    "            'check_row_order': False, # Ignored if dtype is not df\n",
    "            'check_column_type': False, # Ignored if dtype is not df\n",
    "            'float_tolerance': 10 ** (-6)\n",
    "        }\n",
    "    }\n",
    "}\n",
    "tester = Tester(conf, key=b's63L2lglDfBJpcKzxpwcyy61HyKnJNBOJXl9BMyWhyo=', path='resource/asnlib/publicdata/')\n",
    "for _ in range(70):\n",
    "    try:\n",
    "        tester.run_test()\n",
    "        (input_vars, original_input_vars, returned_output_vars, true_output_vars) = tester.get_test_vars()\n",
    "    except:\n",
    "        (input_vars, original_input_vars, returned_output_vars, true_output_vars) = tester.get_test_vars()\n",
    "        raise\n",
    "\n",
    "print('Passed! Please submit.')"
   ]
  },
  {
   "cell_type": "markdown",
   "metadata": {},
   "source": [
    "**Aside: pretty printing the rules.** The output of rules above is a little messy; here's a little helper function that structures that output a little, which will be useful for both debugging and reporting purposes."
   ]
  },
  {
   "cell_type": "code",
   "execution_count": 23,
   "metadata": {},
   "outputs": [
    {
     "name": "stdout",
     "output_type": "stream",
     "text": [
      "conf(blue fish => red fish) = 0.818\n",
      "conf(one fish => red fish) = 0.809\n",
      "conf(two fish => red fish) = 0.797\n",
      "conf(blue fish => two fish) = 0.614\n",
      "conf(one fish => two fish) = 0.596\n",
      "conf(red fish => two fish) = 0.590\n",
      "conf(red fish => one fish) = 0.380\n",
      "conf(two fish => one fish) = 0.378\n",
      "conf(two fish => blue fish) = 0.365\n",
      "conf(blue fish => one fish) = 0.364\n",
      "conf(red fish => blue fish) = 0.360\n",
      "conf(one fish => blue fish) = 0.340\n"
     ]
    }
   ],
   "source": [
    "\n",
    "def gen_rule_str(a, b, val=None, val_fmt='{:.3f}', sep=\" = \"):\n",
    "    text = \"{} => {}\".format(a, b)\n",
    "    if val:\n",
    "        text = \"conf(\" + text + \")\"\n",
    "        text += sep + val_fmt.format(val)\n",
    "    return text\n",
    "\n",
    "def print_rules(rules):\n",
    "    if type(rules) is dict or type(rules) is defaultdict:\n",
    "        from operator import itemgetter\n",
    "        ordered_rules = sorted(rules.items(), key=itemgetter(1), reverse=True)\n",
    "    else: # Assume rules is iterable\n",
    "        ordered_rules = [((a, b), None) for a, b in rules]\n",
    "    for (a, b), conf_ab in ordered_rules:\n",
    "        print(gen_rule_str(a, b, conf_ab))\n",
    "\n",
    "# Demo:\n",
    "print_rules(rules)"
   ]
  },
  {
   "cell_type": "markdown",
   "metadata": {
    "deletable": false,
    "editable": false,
    "nbgrader": {
     "grade": false,
     "locked": true,
     "solution": false
    },
    "tags": [
     "exercise_text"
    ]
   },
   "source": [
    "**Exercise 7** (1 Point). Given `rules`, a dictionary mapping pairs `(a, b)` to the confidence that `a` implies `b` as well as a `threshold`, define the function `filter_rules_by_conf`. It should return all the rules whose confidence is _at least_ the threshold."
   ]
  },
  {
   "cell_type": "code",
   "execution_count": 24,
   "metadata": {
    "collapsed": true,
    "deletable": false,
    "editable": false,
    "nbgrader": {
     "grade": false,
     "locked": true,
     "solution": false
    },
    "tags": [
     "demo_data"
    ]
   },
   "outputs": [],
   "source": [
    "### Define demo inputs\n",
    "\n",
    "demo_rules_ex7 = {('blue fish', 'one fish'): 0.36363636363636365,\n",
    "                    ('one fish', 'blue fish'): 0.3404255319148936,\n",
    "                    ('blue fish', 'red fish'): 0.8181818181818182,\n",
    "                    ('red fish', 'blue fish'): 0.36,\n",
    "                    ('blue fish', 'two fish'): 0.6136363636363636,\n",
    "                    ('two fish', 'blue fish'): 0.36486486486486486,\n",
    "                    ('one fish', 'red fish'): 0.8085106382978723,\n",
    "                    ('red fish', 'one fish'): 0.38,\n",
    "                    ('one fish', 'two fish'): 0.5957446808510638,\n",
    "                    ('two fish', 'one fish'): 0.3783783783783784,\n",
    "                    ('red fish', 'two fish'): 0.59,\n",
    "                    ('two fish', 'red fish'): 0.7972972972972973}\n",
    "demo_threshold_ex7 = 0.59"
   ]
  },
  {
   "cell_type": "markdown",
   "metadata": {
    "deletable": false,
    "editable": false,
    "nbgrader": {
     "grade": false,
     "locked": true,
     "solution": false
    },
    "tags": [
     "demo_output_md"
    ]
   },
   "source": [
    "<!-- Expected demo output text block -->\n",
    "The demo included in the solution cell below should display the following output:\n",
    "```\n",
    "{('blue fish', 'red fish'): 0.8181818181818182,\n",
    " ('blue fish', 'two fish'): 0.6136363636363636,\n",
    " ('one fish', 'red fish'): 0.8085106382978723,\n",
    " ('one fish', 'two fish'): 0.5957446808510638,\n",
    " ('red fish', 'two fish'): 0.59,\n",
    " ('two fish', 'red fish'): 0.7972972972972973}\n",
    "```\n",
    "<!-- Include any shout outs here -->"
   ]
  },
  {
   "cell_type": "code",
   "execution_count": 25,
   "metadata": {
    "tags": [
     "exercise_solution"
    ]
   },
   "outputs": [
    {
     "data": {
      "text/plain": [
       "{('blue fish', 'red fish'): 0.8181818181818182,\n",
       " ('blue fish', 'two fish'): 0.6136363636363636,\n",
       " ('one fish', 'red fish'): 0.8085106382978723,\n",
       " ('one fish', 'two fish'): 0.5957446808510638,\n",
       " ('red fish', 'two fish'): 0.59,\n",
       " ('two fish', 'red fish'): 0.7972972972972973}"
      ]
     },
     "execution_count": 25,
     "metadata": {},
     "output_type": "execute_result"
    }
   ],
   "source": [
    "def filter_rules_by_conf(rules, threshold):\n",
    "    ###\n",
    "    ### YOUR CODE HERE\n",
    "    # Create the new rules table\n",
    "    rules2 = {}\n",
    "    \n",
    "#    print('Rules = ', rules)\n",
    "#    print('Threshold = ', threshold)\n",
    "    \n",
    "#    for (key1, key2) in rules:\n",
    "#        print('Key 1 = ', key1)\n",
    "#        print('Key 2 = ', key2)\n",
    "        \n",
    "#    for value in rules.values():\n",
    "#        print('Value = ', value)\n",
    "#        if value >= threshold:\n",
    "#            print('Greater than')\n",
    "            \n",
    "#    for i in rules:\n",
    "#        print(i, rules[i])\n",
    "#        if rules[i] >= threshold:\n",
    "#            print('Greater than threshold')\n",
    "            \n",
    "    for k,v in rules.items():\n",
    "#        print('Key = ', k)\n",
    "#        print('Value = ',v)\n",
    "        if v >= threshold:\n",
    "#            print('Greater than threshold')\n",
    "            rules2[k] = v\n",
    "#    print('Updated Rules = ', rules2) \n",
    "#    print(type(rules2))\n",
    "    return(rules2)\n",
    "        \n",
    "filter_rules_by_conf(demo_rules_ex7, demo_threshold_ex7)"
   ]
  },
  {
   "cell_type": "markdown",
   "metadata": {
    "deletable": false,
    "editable": false,
    "nbgrader": {
     "grade": false,
     "locked": true,
     "solution": false
    },
    "tags": [
     "test_data_boilerplate"
    ]
   },
   "source": [
    "<!-- Test Cell Boilerplate -->\n",
    "The cell below will test your solution for Exercise 7. The testing variables will be available for debugging under the following names in a dictionary format.\n",
    "- `input_vars` - Input variables for your solution. \n",
    "- `original_input_vars` - Copy of input variables from prior to running your solution. These _should_ be the same as `input_vars` - otherwise the inputs were modified by your solution.\n",
    "- `returned_output_vars` - Outputs returned by your solution.\n",
    "- `true_output_vars` - The expected output. This _should_ \"match\" `returned_output_vars` based on the question requirements - otherwise, your solution is not returning the correct output. "
   ]
  },
  {
   "cell_type": "code",
   "execution_count": 26,
   "metadata": {
    "deletable": false,
    "editable": false,
    "nbgrader": {
     "grade": true,
     "grade_id": "ex7",
     "locked": true,
     "points": "1",
     "solution": false
    },
    "tags": []
   },
   "outputs": [
    {
     "name": "stdout",
     "output_type": "stream",
     "text": [
      "Passed! Please submit.\n"
     ]
    }
   ],
   "source": [
    "### test_cell_ex7\n",
    "from tester_fw.testers import Tester\n",
    "\n",
    "conf = {\n",
    "    'case_file':'tc_7', \n",
    "    'func': filter_rules_by_conf, # replace this with the function defined above\n",
    "    'inputs':{ # input config dict. keys are parameter names\n",
    "        'rules':{\n",
    "            'dtype':'dict', # data type of param.\n",
    "            'check_modified':True,\n",
    "        },\n",
    "        'threshold':{\n",
    "            'dtype':'float', # data type of param.\n",
    "            'check_modified':False,\n",
    "        }\n",
    "    },\n",
    "    'outputs':{\n",
    "        'output_0':{\n",
    "            'index':0,\n",
    "            'dtype':'dict',\n",
    "            'check_dtype': True,\n",
    "            'check_col_dtypes': False, # Ignored if dtype is not df\n",
    "            'check_col_order': False, # Ignored if dtype is not df\n",
    "            'check_row_order': False, # Ignored if dtype is not df\n",
    "            'check_column_type': False, # Ignored if dtype is not df\n",
    "            'float_tolerance': 0\n",
    "        }\n",
    "    }\n",
    "}\n",
    "tester = Tester(conf, key=b's63L2lglDfBJpcKzxpwcyy61HyKnJNBOJXl9BMyWhyo=', path='resource/asnlib/publicdata/')\n",
    "for _ in range(70):\n",
    "    try:\n",
    "        tester.run_test()\n",
    "        (input_vars, original_input_vars, returned_output_vars, true_output_vars) = tester.get_test_vars()\n",
    "    except:\n",
    "        (input_vars, original_input_vars, returned_output_vars, true_output_vars) = tester.get_test_vars()\n",
    "        raise\n",
    "\n",
    "print('Passed! Please submit.')"
   ]
  },
  {
   "cell_type": "markdown",
   "metadata": {},
   "source": [
    "## Actual baskets!\n",
    "\n",
    "Let's take a look at some real data that [someone](http://www.salemmarafi.com/code/market-basket-analysis-with-r/) was kind enough to prepare for a similar exercise designed for the R programming environment.\n",
    "\n",
    "First, here's a code snippet to load the data, which is a text file. If you are running in the Vocareum environment, we've already placed a copy of the data there; if you are running outside, this code will try to download a copy from the CSE 6040 website.\n",
    "\n",
    "Each line of this file is some customer's shopping basket. The items that the customer bought are stored as a comma-separated list of values."
   ]
  },
  {
   "cell_type": "code",
   "execution_count": 27,
   "metadata": {},
   "outputs": [
    {
     "name": "stdout",
     "output_type": "stream",
     "text": [
      "'groceries.csv' is ready!\n",
      "citrus fruit,semi-finished bread,margarine,ready soups\n",
      "tropical fruit,yogurt,coffee\n",
      "whole milk\n",
      "pip fruit,yogurt,cream cheese ,meat spreads\n",
      "other vegetables,whole milk,condensed milk,long life bakery product\n",
      "whole milk,butter,yogurt,rice,abrasive clea...\n",
      "... (etc.) ...\n",
      "\n",
      "(All data appears to be ready.)\n"
     ]
    }
   ],
   "source": [
    "def on_vocareum():\n",
    "    import os\n",
    "    return os.path.exists('.voc')\n",
    "\n",
    "def download(file, local_dir=\"\", url_base=None, checksum=None):\n",
    "    import os, requests, hashlib, io\n",
    "    local_file = \"{}{}\".format(local_dir, file)\n",
    "    if not os.path.exists(local_file):\n",
    "        if url_base is None:\n",
    "            url_base = \"https://cse6040.gatech.edu/datasets/\"\n",
    "        url = \"{}{}\".format(url_base, file)\n",
    "        print(\"Downloading: {} ...\".format(url))\n",
    "        r = requests.get(url)\n",
    "        with open(local_file, 'wb') as f:\n",
    "            f.write(r.content)            \n",
    "    if checksum is not None:\n",
    "        with io.open(local_file, 'rb') as f:\n",
    "            body = f.read()\n",
    "            body_checksum = hashlib.md5(body).hexdigest()\n",
    "            assert body_checksum == checksum, \\\n",
    "                \"Downloaded file '{}' has incorrect checksum: '{}' instead of '{}'\".format(local_file,\n",
    "                                                                                           body_checksum,\n",
    "                                                                                           checksum)\n",
    "    print(\"'{}' is ready!\".format(file))\n",
    "    \n",
    "if on_vocareum():\n",
    "    DATA_PATH = \"./resource/asnlib/publicdata/\"\n",
    "else:\n",
    "    DATA_PATH = \"\"\n",
    "datasets = {'groceries.csv': '0a3d21c692be5c8ce55c93e59543dcbe'}\n",
    "\n",
    "for filename, checksum in datasets.items():\n",
    "    download(filename, local_dir=DATA_PATH, checksum=checksum)\n",
    "\n",
    "with open('{}{}'.format(DATA_PATH, 'groceries.csv')) as fp:\n",
    "    groceries_file = fp.read()\n",
    "print (groceries_file[0:250] + \"...\\n... (etc.) ...\") # Prints the first 250 characters only\n",
    "print(\"\\n(All data appears to be ready.)\")"
   ]
  },
  {
   "cell_type": "markdown",
   "metadata": {
    "deletable": false,
    "editable": false,
    "nbgrader": {
     "grade": false,
     "locked": true,
     "solution": false
    },
    "tags": [
     "exercise_text"
    ]
   },
   "source": [
    "**Exercise 8** (3 Points). The groceries data is unfortunately in a different format than the letters we have been working with. We can process itemsets well enough with `update_pair_counts`, `update_item_counts`, `create_rules_from_counts`, and `filter_rules_by_conf`. Making the itemsets themselves is a different story. If we're going to work with this real data set then we have to make itemsets out of it. \n",
    "\n",
    "**Your task**: Complete the function `make_itemsets_csv`. Given `csv_str`, a string where each receipt is a _line_ and the items within each receipt are _separated by a comma_, return a list of sets. Each set should be a single receipt, and each element of the set should be an item contained within that receipt. As with the words the ordering within each itemset does not matter, however the order of the itemsets within the list should match the order in which they appear."
   ]
  },
  {
   "cell_type": "code",
   "execution_count": 28,
   "metadata": {
    "deletable": false,
    "editable": false,
    "nbgrader": {
     "grade": false,
     "locked": true,
     "solution": false
    },
    "tags": [
     "demo_data"
    ]
   },
   "outputs": [
    {
     "name": "stdout",
     "output_type": "stream",
     "text": [
      "milk,eggs,peanut butter,oatmeal\n",
      "butter,pancake mix,maple syrup\n",
      "dog treats,milk,milk\n"
     ]
    }
   ],
   "source": [
    "### Define demo inputs\n",
    "\n",
    "demo_csv_str_ex8 = '''milk,eggs,peanut butter,oatmeal\n",
    "butter,pancake mix,maple syrup\n",
    "dog treats,milk,milk'''\n",
    "print(demo_csv_str_ex8)"
   ]
  },
  {
   "cell_type": "markdown",
   "metadata": {
    "deletable": false,
    "editable": false,
    "nbgrader": {
     "grade": false,
     "locked": true,
     "solution": false
    },
    "tags": [
     "demo_output_md"
    ]
   },
   "source": [
    "<!-- Expected demo output text block -->\n",
    "The demo included in the solution cell below should display the following output:\n",
    "```\n",
    "[{'eggs', 'milk', 'oatmeal', 'peanut butter'},\n",
    " {'butter', 'maple syrup', 'pancake mix'},\n",
    " {'dog treats', 'milk'}]\n",
    "```\n",
    "<!-- Include any shout outs here -->"
   ]
  },
  {
   "cell_type": "code",
   "execution_count": 29,
   "metadata": {
    "tags": [
     "exercise_solution"
    ]
   },
   "outputs": [
    {
     "data": {
      "text/plain": [
       "[{'eggs', 'milk', 'oatmeal', 'peanut butter'},\n",
       " {'butter', 'maple syrup', 'pancake mix'},\n",
       " {'dog treats', 'milk'}]"
      ]
     },
     "execution_count": 29,
     "metadata": {},
     "output_type": "execute_result"
    }
   ],
   "source": [
    "# ex8 solution\n",
    "def make_itemsets_csv(csv_str):\n",
    "    ###\n",
    "    ### YOUR CODE HERE\n",
    "#    print('CSV str = ', csv_str)\n",
    "    #Using the splitlines function (not just split) split the string by new line\n",
    "    x = csv_str.splitlines()\n",
    "  #  print('X = ', x)\n",
    "  #  print('X type = ', type(x))\n",
    "    \n",
    "    new_list = []\n",
    "    count = 0\n",
    "    \n",
    "    for i in x:\n",
    "        temp_list = []\n",
    "#        print('I = ', i)\n",
    "#        print('Type = ', type(i))\n",
    "#       Split the list by commas\n",
    "        temp_list = i.split(',')\n",
    "#       Sort the list    \n",
    "        temp_list.sort()\n",
    "#        print('Temp list = ', temp_list)\n",
    "#       Create a set to have unique values in each list\n",
    "        temp_set = set(temp_list)\n",
    "#        print('Type of Temp set = ', type(temp_set))\n",
    "#       Add the set to the list that will be returned\n",
    "        new_list.append(temp_set)\n",
    "\n",
    "\n",
    "    \n",
    "#    print('New List = ',new_list)\n",
    "    \n",
    "    return new_list\n",
    "    ###\n",
    "make_itemsets_csv(demo_csv_str_ex8)"
   ]
  },
  {
   "cell_type": "markdown",
   "metadata": {
    "deletable": false,
    "editable": false,
    "nbgrader": {
     "grade": false,
     "locked": true,
     "solution": false
    },
    "tags": [
     "test_data_boilerplate"
    ]
   },
   "source": [
    "<!-- Test Cell Boilerplate -->\n",
    "The cell below will test your solution for Exercise 8. The testing variables will be available for debugging under the following names in a dictionary format.\n",
    "- `input_vars` - Input variables for your solution. \n",
    "- `original_input_vars` - Copy of input variables from prior to running your solution. These _should_ be the same as `input_vars` - otherwise the inputs were modified by your solution.\n",
    "- `returned_output_vars` - Outputs returned by your solution.\n",
    "- `true_output_vars` - The expected output. This _should_ \"match\" `returned_output_vars` based on the question requirements - otherwise, your solution is not returning the correct output. "
   ]
  },
  {
   "cell_type": "code",
   "execution_count": 30,
   "metadata": {
    "deletable": false,
    "editable": false,
    "nbgrader": {
     "grade": true,
     "grade_id": "ex8",
     "locked": true,
     "points": "3",
     "solution": false
    },
    "tags": []
   },
   "outputs": [
    {
     "name": "stdout",
     "output_type": "stream",
     "text": [
      "Passed! Please submit.\n"
     ]
    }
   ],
   "source": [
    "### test_cell_ex8\n",
    "from tester_fw.testers import Tester\n",
    "\n",
    "conf = {\n",
    "    'case_file':'tc_8', \n",
    "    'func': make_itemsets_csv, # replace this with the function defined above\n",
    "    'inputs':{ # input config dict. keys are parameter names\n",
    "        'csv_str':{\n",
    "            'dtype':'str', # data type of param.\n",
    "            'check_modified':False,\n",
    "        }\n",
    "    },\n",
    "    'outputs':{\n",
    "        'output_0':{\n",
    "            'index':0,\n",
    "            'dtype':'',\n",
    "            'check_dtype': True,\n",
    "            'check_col_dtypes': False, # Ignored if dtype is not df\n",
    "            'check_col_order': False, # Ignored if dtype is not df\n",
    "            'check_row_order': False, # Ignored if dtype is not df\n",
    "            'check_column_type': False, # Ignored if dtype is not df\n",
    "            'float_tolerance': 10 ** (-6)\n",
    "        }\n",
    "    }\n",
    "}\n",
    "tester = Tester(conf, key=b's63L2lglDfBJpcKzxpwcyy61HyKnJNBOJXl9BMyWhyo=', path='resource/asnlib/publicdata/')\n",
    "for _ in range(70):\n",
    "    try:\n",
    "        tester.run_test()\n",
    "        (input_vars, original_input_vars, returned_output_vars, true_output_vars) = tester.get_test_vars()\n",
    "    except:\n",
    "        (input_vars, original_input_vars, returned_output_vars, true_output_vars) = tester.get_test_vars()\n",
    "        raise\n",
    "\n",
    "print('Passed! Please submit.')"
   ]
  },
  {
   "cell_type": "markdown",
   "metadata": {},
   "source": [
    "**On higher order functions**  \n",
    "Python functions are *objects*, just like strings, lists, dictionaries, etc. This means that they can be passed as arguments to other functions. (You have seen this before with sorting in Notebook 1.) Here's a short example, say I have this function.\n",
    "\n",
    "```\n",
    "def do_math_operation(x, y, func):\n",
    "    return func(x, y)\n",
    "```\n",
    "\n",
    "Then I can define other functions and pass them to `do_math_operation` to change how it works. For instance let's say I have `add(a, b)` which returns the sum of `a` and `b`. I can call `do_math_operation(4, 5, add)` and the result will be the sum of `4+5`. I could also define a funciton called a function which multiplies two numbers pass that to change what `do_math_operation` does. For sure, that's not a very interesting example, but this is a very powerful concept. "
   ]
  },
  {
   "cell_type": "markdown",
   "metadata": {
    "deletable": false,
    "editable": false,
    "nbgrader": {
     "grade": false,
     "locked": true,
     "solution": false
    },
    "tags": [
     "exercise_text"
    ]
   },
   "source": [
    "**Exercise 9** (4 Points). Use the tools you have created above to create a association rules from a data source. The following inputs:  \n",
    "- `source`: the source data for your rules. You can assume this will be _either_ structured like the `latin_text` _or_ like the csv-formatted `groceries_file`. \n",
    "- `itemset_maker`: a function which can be used to transform the `source` into \"itemsets\". *Since you are given the parsing function as a parameter, you do not need to attempt to determine the format of `source`*. See \"On higher order functions\" above.\n",
    "- `conf_threshold` and `min_count`: Your result should only include rules where `a` occurs in _at least_ `min_count` receipts _and_ $\\mathrm{conf}(a \\Rightarrow b)$ is at least `conf_threshold`\n",
    "\n",
    "Return your confidence rules as a dictionary.\n",
    "- Keys: pairs `(a,b)`\n",
    "- Values: $\\mathrm{conf}(a \\Rightarrow b)$\n",
    "\n",
    "> Note: We will test your solution using `make_itemsets_unstructured_text` and `make_itemsets_csv` on random inputs. These functions must be correctly defined above to pass the test cell. "
   ]
  },
  {
   "cell_type": "markdown",
   "metadata": {
    "deletable": false,
    "editable": false,
    "nbgrader": {
     "grade": false,
     "locked": true,
     "solution": false
    },
    "tags": [
     "demo_output_md"
    ]
   },
   "source": [
    "<!-- Expected demo output text block -->\n",
    "The demo included in the solution cell below should display the following output:\n",
    "```\n",
    "Source: `latin_text`; Itemset Maker: `make_itemsets_unstructured_text`; Confidence Threshold: 0.75; Min Count: 0\n",
    "conf(q => u) = 1.000\n",
    "conf(x => e) = 1.000\n",
    "conf(h => i) = 0.833\n",
    "conf(x => i) = 0.833\n",
    "conf(v => t) = 0.818\n",
    "conf(r => e) = 0.800\n",
    "conf(v => e) = 0.773\n",
    "conf(b => i) = 0.750\n",
    "conf(g => i) = 0.750\n",
    "conf(f => i) = 0.750\n",
    "\n",
    "Source: `groceries_file`; Itemset Maker: `make_itemsets_csv`; Confidence Threshold: 0.5; Min Count: 10\n",
    "conf(honey => whole milk) = 0.733\n",
    "conf(frozen fruits => other vegetables) = 0.667\n",
    "conf(cereals => whole milk) = 0.643\n",
    "conf(rice => whole milk) = 0.613\n",
    "conf(rubbing alcohol => whole milk) = 0.600\n",
    "conf(cocoa drinks => whole milk) = 0.591\n",
    "conf(pudding powder => whole milk) = 0.565\n",
    "conf(jam => whole milk) = 0.547\n",
    "conf(cream => other vegetables) = 0.538\n",
    "conf(cream => sausage) = 0.538\n",
    "conf(baking powder => whole milk) = 0.523\n",
    "conf(tidbits => rolls/buns) = 0.522\n",
    "conf(rice => other vegetables) = 0.520\n",
    "conf(cooking chocolate => whole milk) = 0.520\n",
    "conf(specialty cheese => other vegetables) = 0.500\n",
    "conf(rubbing alcohol => butter) = 0.500\n",
    "conf(rubbing alcohol => citrus fruit) = 0.500\n",
    "conf(ready soups => rolls/buns) = 0.500\n",
    "conf(frozen fruits => whipped/sour cream) = 0.500\n",
    "```\n",
    "<!-- Include any shout outs here -->\n",
    "\n",
    "> Note: The \"Source: ...; Itemset Maker: ...; Confidence Threshold: ...; Min Count: ...\" is just printed for convenience. It _should not be part of your output_!  \n",
    "  \n",
    "> Note: The rules are \"pretty printed\" using the `print_rules` function defined above. Your solution should output lists of dictionaries.  \n",
    "  \n",
    "> Note: The demo includes _two calls_ to your solution. The first is for `latin_rules`, and the second is for `groceries_file`."
   ]
  },
  {
   "cell_type": "code",
   "execution_count": 31,
   "metadata": {
    "tags": [
     "exercise_solution"
    ]
   },
   "outputs": [
    {
     "name": "stdout",
     "output_type": "stream",
     "text": [
      "Source: `latin_text`; Itemset Maker: `make_itemsets_unstructured_text`; Confidence Threshold: 0.75; Min Count: 0\n",
      "conf(q => u) = 1.000\n",
      "conf(x => e) = 1.000\n",
      "conf(h => i) = 0.833\n",
      "conf(x => i) = 0.833\n",
      "conf(v => t) = 0.818\n",
      "conf(r => e) = 0.800\n",
      "conf(v => e) = 0.773\n",
      "conf(b => i) = 0.750\n",
      "conf(g => i) = 0.750\n",
      "conf(f => i) = 0.750\n",
      "\n",
      "Source: `groceries_file`; Itemset Maker: `make_itemsets_csv`; Confidence Threshold: 0.5; Min Count: 10\n",
      "conf(baby food => pip fruit) = 1.000\n",
      "conf(baby food => pasta) = 1.000\n",
      "conf(baby food => white bread) = 1.000\n",
      "conf(baby food => fruit/vegetable juice) = 1.000\n",
      "conf(baby food => cake bar) = 1.000\n",
      "conf(baby food => waffles) = 1.000\n",
      "conf(baby food => sausage) = 1.000\n",
      "conf(baby food => tropical fruit) = 1.000\n",
      "conf(baby food => finished products) = 1.000\n",
      "conf(baby food => yogurt) = 1.000\n",
      "conf(baby food => curd) = 1.000\n",
      "conf(baby food => pastry) = 1.000\n",
      "conf(baby food => butter milk) = 1.000\n",
      "conf(baby food => soft cheese) = 1.000\n",
      "conf(baby food => frozen vegetables) = 1.000\n",
      "conf(baby food => shopping bags) = 1.000\n",
      "conf(baby food => brown bread) = 1.000\n",
      "conf(baby food => chocolate) = 1.000\n",
      "conf(baby food => salty snack) = 1.000\n",
      "conf(baby food => soups) = 1.000\n",
      "conf(baby food => butter) = 1.000\n",
      "conf(baby food => whipped/sour cream) = 1.000\n",
      "conf(baby food => dessert) = 1.000\n",
      "conf(baby food => rolls/buns) = 1.000\n",
      "conf(baby food => other vegetables) = 1.000\n",
      "conf(sound storage medium => bottled water) = 1.000\n",
      "conf(sound storage medium => shopping bags) = 1.000\n",
      "conf(sound storage medium => frozen potato products) = 1.000\n",
      "conf(sound storage medium => cat food) = 1.000\n",
      "conf(sound storage medium => soda) = 1.000\n",
      "conf(sound storage medium => ham) = 1.000\n",
      "conf(sound storage medium => white bread) = 1.000\n",
      "conf(sound storage medium => pastry) = 1.000\n",
      "conf(sound storage medium => candy) = 1.000\n",
      "conf(preservation products => whipped/sour cream) = 1.000\n",
      "conf(preservation products => citrus fruit) = 1.000\n",
      "conf(kitchen utensil => whole milk) = 0.750\n",
      "conf(honey => whole milk) = 0.733\n",
      "conf(frozen fruits => other vegetables) = 0.667\n",
      "conf(cereals => whole milk) = 0.643\n",
      "conf(salad dressing => other vegetables) = 0.625\n",
      "conf(rice => whole milk) = 0.613\n",
      "conf(rubbing alcohol => whole milk) = 0.600\n",
      "conf(cocoa drinks => whole milk) = 0.591\n",
      "conf(pudding powder => whole milk) = 0.565\n",
      "conf(jam => whole milk) = 0.547\n",
      "conf(cream => other vegetables) = 0.538\n",
      "conf(cream => sausage) = 0.538\n",
      "conf(baking powder => whole milk) = 0.523\n",
      "conf(tidbits => rolls/buns) = 0.522\n",
      "conf(rice => other vegetables) = 0.520\n",
      "conf(cooking chocolate => whole milk) = 0.520\n",
      "conf(make up remover => soda) = 0.500\n",
      "conf(specialty cheese => other vegetables) = 0.500\n",
      "conf(baby cosmetics => whole milk) = 0.500\n",
      "conf(rubbing alcohol => citrus fruit) = 0.500\n",
      "conf(rubbing alcohol => butter) = 0.500\n",
      "conf(ready soups => rolls/buns) = 0.500\n",
      "conf(frozen fruits => whipped/sour cream) = 0.500\n",
      "conf(kitchen utensil => onions) = 0.500\n",
      "conf(kitchen utensil => yogurt) = 0.500\n",
      "conf(kitchen utensil => pastry) = 0.500\n",
      "conf(preservation products => tropical fruit) = 0.500\n",
      "conf(preservation products => whole milk) = 0.500\n",
      "conf(preservation products => yogurt) = 0.500\n",
      "conf(kitchen utensil => tropical fruit) = 0.500\n",
      "conf(kitchen utensil => berries) = 0.500\n",
      "conf(preservation products => onions) = 0.500\n",
      "conf(preservation products => dish cleaner) = 0.500\n",
      "conf(preservation products => cream cheese ) = 0.500\n",
      "conf(preservation products => other vegetables) = 0.500\n",
      "conf(preservation products => mustard) = 0.500\n",
      "conf(preservation products => waffles) = 0.500\n",
      "conf(preservation products => cocoa drinks) = 0.500\n",
      "conf(preservation products => ice cream) = 0.500\n",
      "conf(preservation products => spices) = 0.500\n",
      "conf(preservation products => hygiene articles) = 0.500\n",
      "conf(preservation products => abrasive cleaner) = 0.500\n",
      "conf(preservation products => frozen vegetables) = 0.500\n",
      "conf(preservation products => long life bakery product) = 0.500\n",
      "conf(preservation products => mayonnaise) = 0.500\n",
      "conf(preservation products => chocolate) = 0.500\n",
      "conf(preservation products => coffee) = 0.500\n",
      "conf(preservation products => grapes) = 0.500\n",
      "conf(preservation products => candy) = 0.500\n"
     ]
    }
   ],
   "source": [
    "def filter_rules_by_conf2(rules, threshold, mincount):\n",
    "    ###\n",
    "    ### YOUR CODE HERE\n",
    "    # Create the new rules table\n",
    "    rules2 = {}\n",
    "    \n",
    "#    print('Rules = ', rules)\n",
    "#    print('Rules type = ', type(rules))\n",
    "#    print('Threshold = ', threshold)\n",
    "#    print('Min Count = ', mincount)\n",
    "    \n",
    "#    for (key1, key2) in rules:\n",
    "#        print('Key 1 = ', key1)\n",
    "#        print('Key 2 = ', key2)\n",
    "        \n",
    "#    for value in rules.values():\n",
    "#        print('Value = ', value)\n",
    "#        if value >= threshold:\n",
    "#            print('Greater than')\n",
    "            \n",
    "#    for i in rules:\n",
    "#        print(i, rules[i])\n",
    "#        if rules[i] >= threshold:\n",
    "#            print('Greater than threshold')\n",
    "    count = 0        \n",
    "    for k,v in rules.items():\n",
    "#        print('Key = ', k)\n",
    "#        print('Value = ',v)\n",
    "        if v >= threshold:\n",
    "#            print('Greater than threshold')\n",
    "#            if rules.count(k[count]) >= mincount:\n",
    "#                print('Min Count met')\n",
    "            rules2[k] = v\n",
    "#    print('Updated Rules = ', rules2) \n",
    "#    print(type(rules2))\n",
    "    return(rules2)\n",
    "\n",
    "def create_rules_from_source(source, itemset_maker, conf_threshold=0, min_count=0):\n",
    "    ###\n",
    "    ### YOUR CODE HERE\n",
    "\n",
    "# Call functions to create pair_dict and item_counts; Remember that these have to be\n",
    "# initialized as defaultdict first\n",
    "\n",
    "#    print('Min count = ', min_count)\n",
    "    pair_dict = defaultdict(int)\n",
    "    item_count = defaultdict(int)\n",
    "    \n",
    "    itemsets = itemset_maker(source)\n",
    "# Iterate through the itemsets to create the pair_counts and item_count default dictionaries\n",
    "\n",
    "    for i in itemsets:\n",
    "#        print('Itemsets = ', i)\n",
    "        update_pair_counts(pair_dict,i)\n",
    "        update_item_counts(item_count,i)\n",
    "        \n",
    "#    print('Ex 9 pair dict = ', pair_dict)\n",
    "#    print('Ex 9 item count = ', item_count)\n",
    "\n",
    "\n",
    "# Next get the confidence rules \n",
    "\n",
    "    source_rules = create_rules_from_counts(pair_dict, item_count)\n",
    "#    print('Source Rules = ', source_rules)\n",
    "    \n",
    "    \n",
    "    filtered_rules = filter_rules_by_conf2(source_rules, conf_threshold, min_count)\n",
    "#    print('Filtered Rules = ', filtered_rules)\n",
    "\n",
    "    return filtered_rules\n",
    "    ###\n",
    "    \n",
    "latin_rules = create_rules_from_source(latin_text, make_itemsets_unstructured_text, 0.75)\n",
    "grocery_rules = create_rules_from_source(groceries_file, make_itemsets_csv, 0.5, 10)\n",
    "print('Source: `latin_text`; Itemset Maker: `make_itemsets_unstructured_text`; Confidence Threshold: 0.75; Min Count: 0')\n",
    "print_rules(latin_rules)\n",
    "print()\n",
    "print('Source: `groceries_file`; Itemset Maker: `make_itemsets_csv`; Confidence Threshold: 0.5; Min Count: 10')\n",
    "print_rules(grocery_rules)"
   ]
  },
  {
   "cell_type": "markdown",
   "metadata": {
    "deletable": false,
    "editable": false,
    "nbgrader": {
     "grade": false,
     "locked": true,
     "solution": false
    },
    "tags": [
     "test_data_boilerplate"
    ]
   },
   "source": [
    "<!-- Test Cell Boilerplate -->\n",
    "The cell below will test your solution for Exercise 9. The testing variables will be available for debugging under the following names in a dictionary format.\n",
    "- `input_vars` - Input variables for your solution. \n",
    "- `original_input_vars` - Copy of input variables from prior to running your solution. These _should_ be the same as `input_vars` - otherwise the inputs were modified by your solution.\n",
    "- `returned_output_vars` - Outputs returned by your solution.\n",
    "- `true_output_vars` - The expected output. This _should_ \"match\" `returned_output_vars` based on the question requirements - otherwise, your solution is not returning the correct output. "
   ]
  },
  {
   "cell_type": "code",
   "execution_count": 32,
   "metadata": {
    "deletable": false,
    "editable": false,
    "nbgrader": {
     "grade": true,
     "grade_id": "ex9",
     "locked": true,
     "points": "4",
     "solution": false
    },
    "tags": []
   },
   "outputs": [
    {
     "ename": "AssertionError",
     "evalue": "\nOutput for output_0 is incorrect.\nThe returned result is available as `returned_output_vars['output_0']`\nThe expected result is available as `true_output_vars['output_0']`\n            ",
     "output_type": "error",
     "traceback": [
      "\u001b[0;31m---------------------------------------------------------------------------\u001b[0m",
      "\u001b[0;31mAssertionError\u001b[0m                            Traceback (most recent call last)",
      "\u001b[0;32m<ipython-input-32-30140477fa64>\u001b[0m in \u001b[0;36m<module>\u001b[0;34m\u001b[0m\n\u001b[1;32m     39\u001b[0m \u001b[0;32mfor\u001b[0m \u001b[0m_\u001b[0m \u001b[0;32min\u001b[0m \u001b[0mrange\u001b[0m\u001b[0;34m(\u001b[0m\u001b[0;36m70\u001b[0m\u001b[0;34m)\u001b[0m\u001b[0;34m:\u001b[0m\u001b[0;34m\u001b[0m\u001b[0;34m\u001b[0m\u001b[0m\n\u001b[1;32m     40\u001b[0m     \u001b[0;32mtry\u001b[0m\u001b[0;34m:\u001b[0m\u001b[0;34m\u001b[0m\u001b[0;34m\u001b[0m\u001b[0m\n\u001b[0;32m---> 41\u001b[0;31m         \u001b[0mtester\u001b[0m\u001b[0;34m.\u001b[0m\u001b[0mrun_test\u001b[0m\u001b[0;34m(\u001b[0m\u001b[0;34m)\u001b[0m\u001b[0;34m\u001b[0m\u001b[0;34m\u001b[0m\u001b[0m\n\u001b[0m\u001b[1;32m     42\u001b[0m         \u001b[0;34m(\u001b[0m\u001b[0minput_vars\u001b[0m\u001b[0;34m,\u001b[0m \u001b[0moriginal_input_vars\u001b[0m\u001b[0;34m,\u001b[0m \u001b[0mreturned_output_vars\u001b[0m\u001b[0;34m,\u001b[0m \u001b[0mtrue_output_vars\u001b[0m\u001b[0;34m)\u001b[0m \u001b[0;34m=\u001b[0m \u001b[0mtester\u001b[0m\u001b[0;34m.\u001b[0m\u001b[0mget_test_vars\u001b[0m\u001b[0;34m(\u001b[0m\u001b[0;34m)\u001b[0m\u001b[0;34m\u001b[0m\u001b[0;34m\u001b[0m\u001b[0m\n\u001b[1;32m     43\u001b[0m     \u001b[0;32mexcept\u001b[0m\u001b[0;34m:\u001b[0m\u001b[0;34m\u001b[0m\u001b[0;34m\u001b[0m\u001b[0m\n",
      "\u001b[0;32m~/tester_fw/testers.py\u001b[0m in \u001b[0;36mrun_test\u001b[0;34m(self, func)\u001b[0m\n\u001b[1;32m     39\u001b[0m \u001b[0;34m\u001b[0m\u001b[0m\n\u001b[1;32m     40\u001b[0m     \u001b[0;32mdef\u001b[0m \u001b[0mrun_test\u001b[0m\u001b[0;34m(\u001b[0m\u001b[0mself\u001b[0m\u001b[0;34m,\u001b[0m \u001b[0mfunc\u001b[0m\u001b[0;34m=\u001b[0m\u001b[0;32mNone\u001b[0m\u001b[0;34m)\u001b[0m\u001b[0;34m:\u001b[0m\u001b[0;34m\u001b[0m\u001b[0;34m\u001b[0m\u001b[0m\n\u001b[0;32m---> 41\u001b[0;31m         \u001b[0;32mreturn\u001b[0m \u001b[0msuper\u001b[0m\u001b[0;34m(\u001b[0m\u001b[0;34m)\u001b[0m\u001b[0;34m.\u001b[0m\u001b[0mrun_test\u001b[0m\u001b[0;34m(\u001b[0m\u001b[0mself\u001b[0m\u001b[0;34m.\u001b[0m\u001b[0mfunc\u001b[0m\u001b[0;34m)\u001b[0m\u001b[0;34m\u001b[0m\u001b[0;34m\u001b[0m\u001b[0m\n\u001b[0m\u001b[1;32m     42\u001b[0m \u001b[0;34m\u001b[0m\u001b[0m\n\u001b[1;32m     43\u001b[0m     \u001b[0;32mdef\u001b[0m \u001b[0mbuild_vars\u001b[0m\u001b[0;34m(\u001b[0m\u001b[0mself\u001b[0m\u001b[0;34m)\u001b[0m\u001b[0;34m:\u001b[0m\u001b[0;34m\u001b[0m\u001b[0;34m\u001b[0m\u001b[0m\n",
      "\u001b[0;32m~/tester_fw/__init__.py\u001b[0m in \u001b[0;36mrun_test\u001b[0;34m(self, func)\u001b[0m\n\u001b[1;32m     43\u001b[0m             \u001b[0mself\u001b[0m\u001b[0;34m.\u001b[0m\u001b[0mcheck_modified\u001b[0m\u001b[0;34m(\u001b[0m\u001b[0;34m)\u001b[0m    \u001b[0;31m# Check to verify inputs were not modified\u001b[0m\u001b[0;34m\u001b[0m\u001b[0;34m\u001b[0m\u001b[0m\n\u001b[1;32m     44\u001b[0m         \u001b[0mself\u001b[0m\u001b[0;34m.\u001b[0m\u001b[0mcheck_type\u001b[0m\u001b[0;34m(\u001b[0m\u001b[0;34m)\u001b[0m        \u001b[0;31m# Check to verify correct output types\u001b[0m\u001b[0;34m\u001b[0m\u001b[0;34m\u001b[0m\u001b[0m\n\u001b[0;32m---> 45\u001b[0;31m         \u001b[0mself\u001b[0m\u001b[0;34m.\u001b[0m\u001b[0mcheck_matches\u001b[0m\u001b[0;34m(\u001b[0m\u001b[0;34m)\u001b[0m     \u001b[0;31m# Check to verify correct output\u001b[0m\u001b[0;34m\u001b[0m\u001b[0;34m\u001b[0m\u001b[0m\n\u001b[0m\u001b[1;32m     46\u001b[0m \u001b[0;34m\u001b[0m\u001b[0m\n\u001b[1;32m     47\u001b[0m \u001b[0;34m\u001b[0m\u001b[0m\n",
      "\u001b[0;32m~/tester_fw/testers.py\u001b[0m in \u001b[0;36mcheck_matches\u001b[0;34m(self)\u001b[0m\n\u001b[1;32m     80\u001b[0m         \u001b[0;32mfor\u001b[0m \u001b[0mout_key\u001b[0m\u001b[0;34m,\u001b[0m \u001b[0mout_dict\u001b[0m \u001b[0;32min\u001b[0m \u001b[0mself\u001b[0m\u001b[0;34m.\u001b[0m\u001b[0mconf_outputs\u001b[0m\u001b[0;34m.\u001b[0m\u001b[0mitems\u001b[0m\u001b[0;34m(\u001b[0m\u001b[0;34m)\u001b[0m\u001b[0;34m:\u001b[0m\u001b[0;34m\u001b[0m\u001b[0;34m\u001b[0m\u001b[0m\n\u001b[1;32m     81\u001b[0m             \u001b[0mtest_var\u001b[0m \u001b[0;34m=\u001b[0m \u001b[0mself\u001b[0m\u001b[0;34m.\u001b[0m\u001b[0mreturned_output_vars\u001b[0m\u001b[0;34m[\u001b[0m\u001b[0mout_key\u001b[0m\u001b[0;34m]\u001b[0m\u001b[0;34m\u001b[0m\u001b[0;34m\u001b[0m\u001b[0m\n\u001b[0;32m---> 82\u001b[0;31m             assert test_utils.compare_copies(a=test_var,\n\u001b[0m\u001b[1;32m     83\u001b[0m                                             \u001b[0mb\u001b[0m\u001b[0;34m=\u001b[0m\u001b[0mself\u001b[0m\u001b[0;34m.\u001b[0m\u001b[0mtrue_output_vars\u001b[0m\u001b[0;34m[\u001b[0m\u001b[0mout_key\u001b[0m\u001b[0;34m]\u001b[0m\u001b[0;34m,\u001b[0m\u001b[0;34m\u001b[0m\u001b[0;34m\u001b[0m\u001b[0m\n\u001b[1;32m     84\u001b[0m                                             \u001b[0mtol\u001b[0m\u001b[0;34m=\u001b[0m\u001b[0mout_dict\u001b[0m\u001b[0;34m[\u001b[0m\u001b[0;34m'float_tolerance'\u001b[0m\u001b[0;34m]\u001b[0m\u001b[0;34m,\u001b[0m\u001b[0;34m\u001b[0m\u001b[0;34m\u001b[0m\u001b[0m\n",
      "\u001b[0;31mAssertionError\u001b[0m: \nOutput for output_0 is incorrect.\nThe returned result is available as `returned_output_vars['output_0']`\nThe expected result is available as `true_output_vars['output_0']`\n            "
     ]
    }
   ],
   "source": [
    "### test_cell_ex9\n",
    "from tester_fw.testers import Tester\n",
    "\n",
    "conf = {\n",
    "    'case_file':'tc_9', \n",
    "    'func': create_rules_from_source, # replace this with the function defined above\n",
    "    'inputs':{ # input config dict. keys are parameter names\n",
    "        'source':{\n",
    "            'dtype':'string', # data type of param.\n",
    "            'check_modified':False,\n",
    "        },\n",
    "        'itemset_maker':{\n",
    "            'dtype':'function', # data type of param.\n",
    "            'check_modified':False,\n",
    "        },\n",
    "        'conf_threshold':{\n",
    "            'dtype':'float', # data type of param.\n",
    "            'check_modified':False,\n",
    "        },\n",
    "        'min_count':{\n",
    "            'dtype':'int', # data type of param.\n",
    "            'check_modified':False,\n",
    "        }\n",
    "    },\n",
    "    'outputs':{\n",
    "        'output_0':{\n",
    "            'index':0,\n",
    "            'dtype':'dict',\n",
    "            'check_dtype': True,\n",
    "            'check_col_dtypes': False, # Ignored if dtype is not df\n",
    "            'check_col_order': False, # Ignored if dtype is not df\n",
    "            'check_row_order': False, # Ignored if dtype is not df\n",
    "            'check_column_type': False, # Ignored if dtype is not df\n",
    "            'float_tolerance': 10 ** (-6)\n",
    "        }\n",
    "    }\n",
    "}\n",
    "tester = Tester(conf, key=b's63L2lglDfBJpcKzxpwcyy61HyKnJNBOJXl9BMyWhyo=', path='resource/asnlib/publicdata/')\n",
    "for _ in range(70):\n",
    "    try:\n",
    "        tester.run_test()\n",
    "        (input_vars, original_input_vars, returned_output_vars, true_output_vars) = tester.get_test_vars()\n",
    "    except:\n",
    "        (input_vars, original_input_vars, returned_output_vars, true_output_vars) = tester.get_test_vars()\n",
    "        raise\n",
    "\n",
    "print('Passed! Please submit.')"
   ]
  },
  {
   "cell_type": "markdown",
   "metadata": {},
   "source": [
    "**Aside** In case you \\*cough\\* didn't get around to \\*cough\\* looking up and reading the translation of the Lorem Ipsum, here's the first two paragraphs. We're going to use it in the next exercise"
   ]
  },
  {
   "cell_type": "code",
   "execution_count": 33,
   "metadata": {
    "collapsed": true
   },
   "outputs": [],
   "source": [
    "english_text = \"\"\"\n",
    "But I must explain to you how all this mistaken idea\n",
    "of denouncing of a pleasure and praising pain was\n",
    "born and I will give you a complete account of the\n",
    "system, and expound the actual teachings of the great\n",
    "explorer of the truth, the master-builder of human\n",
    "happiness. No one rejects, dislikes, or avoids\n",
    "pleasure itself, because it is pleasure, but because\n",
    "those who do not know how to pursue pleasure\n",
    "rationally encounter consequences that are extremely\n",
    "painful. Nor again is there anyone who loves or\n",
    "pursues or desires to obtain pain of itself, because\n",
    "it is pain, but occasionally circumstances occur in\n",
    "which toil and pain can procure him some great\n",
    "pleasure. To take a trivial example, which of us\n",
    "ever undertakes laborious physical exercise, except\n",
    "to obtain some advantage from it? But who has any\n",
    "right to find fault with a man who chooses to enjoy\n",
    "a pleasure that has no annoying consequences, or\n",
    "one who avoids a pain that produces no resultant\n",
    "pleasure?\n",
    "\n",
    "On the other hand, we denounce with righteous\n",
    "indignation and dislike men who are so beguiled and\n",
    "demoralized by the charms of pleasure of the moment,\n",
    "so blinded by desire, that they cannot foresee the\n",
    "pain and trouble that are bound to ensue; and equal\n",
    "blame belongs to those who fail in their duty\n",
    "through weakness of will, which is the same as\n",
    "saying through shrinking from toil and pain. These\n",
    "cases are perfectly simple and easy to distinguish.\n",
    "In a free hour, when our power of choice is\n",
    "untrammeled and when nothing prevents our being\n",
    "able to do what we like best, every pleasure is to\n",
    "be welcomed and every pain avoided. But in certain\n",
    "circumstances and owing to the claims of duty or\n",
    "the obligations of business it will frequently\n",
    "occur that pleasures have to be repudiated and\n",
    "annoyances accepted. The wise man therefore always\n",
    "holds in these matters to this principle of\n",
    "selection: he rejects pleasures to secure other\n",
    "greater pleasures, or else he endures pains to\n",
    "avoid worse pains.\n",
    "\"\"\""
   ]
  },
  {
   "cell_type": "markdown",
   "metadata": {
    "deletable": false,
    "editable": false,
    "nbgrader": {
     "grade": false,
     "locked": true,
     "solution": false
    },
    "tags": [
     "exercise_text"
    ]
   },
   "source": [
    "**Exercise 10** (2 points). Let's consider the case when we have more than one \"grocery list\". We want to find the rules which are common to both. \n",
    "\n",
    "Given the following inputs complete the funtion `common_rules`:\n",
    "- `source_0` and `source_1` - strings containing source data. These can be unstructured text, csv, or really anything that can be converted into \"itemsets\". You can assume that both are able to be processed by the same `itemset_maker`.\n",
    "- `itemset_maker` - a function which will process a _single_ data source into itemsets.\n",
    "- `conf_threshold` and `min_count`: Your result should only include rules where `a` occurs in _at least_ `min_count` receipts _and_ $\\mathrm{conf}(a \\Rightarrow b)$ is at least `conf_threshold`.\n",
    "\n",
    "Your function should return a set of tuples, where each tuple is a key in both the rules generated from `source_0` and `source_1`.\n",
    "\n",
    "> Note: We will test your solution using `make_itemsets_unstructured_text` and `make_itemsets_csv` on random inputs. These functions must be correctly defined above to pass the test cell. "
   ]
  },
  {
   "cell_type": "markdown",
   "metadata": {
    "deletable": false,
    "editable": false,
    "nbgrader": {
     "grade": false,
     "locked": true,
     "solution": false
    },
    "tags": [
     "demo_output_md"
    ]
   },
   "source": [
    "<!-- Expected demo output text block -->\n",
    "The demo included in the solution cell below should display the following output:\n",
    "```\n",
    "{('q', 'u'), ('x', 'e')}\n",
    "```\n",
    "These are the keys for the rules common to both the Latin and English texts."
   ]
  },
  {
   "cell_type": "code",
   "execution_count": 34,
   "metadata": {
    "tags": [
     "exercise_solution"
    ]
   },
   "outputs": [
    {
     "name": "stdout",
     "output_type": "stream",
     "text": [
      "Filtered Rules =  {('r', 'e'): 0.8, ('v', 'e'): 0.7727272727272727, ('v', 't'): 0.8181818181818182, ('q', 'u'): 1.0, ('h', 'i'): 0.8333333333333334, ('x', 'e'): 1.0, ('b', 'i'): 0.75, ('x', 'i'): 0.8333333333333334, ('g', 'i'): 0.75, ('f', 'i'): 0.75}\n",
      "Filtered Rules2 =  {('x', 'e'): 1.0, ('k', 'e'): 0.7777777777777778, ('j', 'e'): 1.0, ('q', 'e'): 1.0, ('q', 'n'): 0.75, ('q', 'u'): 1.0, ('z', 'e'): 1.0, ('z', 'l'): 1.0, ('z', 'o'): 1.0, ('z', 'i'): 1.0, ('z', 'a'): 1.0, ('z', 'd'): 1.0, ('z', 'r'): 1.0, ('z', 'm'): 1.0}\n",
      "Filtered Rules new =  {('r', 'e'): 0.8, ('v', 'e'): 0.7727272727272727, ('v', 't'): 0.8181818181818182, ('q', 'u'): 1.0, ('h', 'i'): 0.8333333333333334, ('x', 'e'): 1.0, ('b', 'i'): 0.75, ('x', 'i'): 0.8333333333333334, ('g', 'i'): 0.75, ('f', 'i'): 0.75, ('k', 'e'): 0.7777777777777778, ('j', 'e'): 1.0, ('q', 'e'): 1.0, ('q', 'n'): 0.75, ('z', 'e'): 1.0, ('z', 'l'): 1.0, ('z', 'o'): 1.0, ('z', 'i'): 1.0, ('z', 'a'): 1.0, ('z', 'd'): 1.0, ('z', 'r'): 1.0, ('z', 'm'): 1.0}\n"
     ]
    },
    {
     "data": {
      "text/plain": [
       "{('r', 'e'): 0.8,\n",
       " ('v', 'e'): 0.7727272727272727,\n",
       " ('v', 't'): 0.8181818181818182,\n",
       " ('q', 'u'): 1.0,\n",
       " ('h', 'i'): 0.8333333333333334,\n",
       " ('x', 'e'): 1.0,\n",
       " ('b', 'i'): 0.75,\n",
       " ('x', 'i'): 0.8333333333333334,\n",
       " ('g', 'i'): 0.75,\n",
       " ('f', 'i'): 0.75,\n",
       " ('k', 'e'): 0.7777777777777778,\n",
       " ('j', 'e'): 1.0,\n",
       " ('q', 'e'): 1.0,\n",
       " ('q', 'n'): 0.75,\n",
       " ('z', 'e'): 1.0,\n",
       " ('z', 'l'): 1.0,\n",
       " ('z', 'o'): 1.0,\n",
       " ('z', 'i'): 1.0,\n",
       " ('z', 'a'): 1.0,\n",
       " ('z', 'd'): 1.0,\n",
       " ('z', 'r'): 1.0,\n",
       " ('z', 'm'): 1.0}"
      ]
     },
     "execution_count": 34,
     "metadata": {},
     "output_type": "execute_result"
    }
   ],
   "source": [
    "# ex10 solution\n",
    "def common_rules(source_0, source_1, itemset_maker, conf_threshold, min_count):\n",
    "    ###\n",
    "    ### YOUR CODE HERE\n",
    "    pair_dict = defaultdict(int)\n",
    "    pair_dict2 = defaultdict(int)\n",
    "    item_count = defaultdict(int)\n",
    "    item_count2 = defaultdict(int)\n",
    "    \n",
    "    itemsets = itemset_maker(source_0)\n",
    "    itemsets2 = itemset_maker(source_1)\n",
    "# Iterate through the itemsets to create the pair_counts and item_count default dictionaries\n",
    "\n",
    "    for i in itemsets:\n",
    "#        print('Itemsets = ', i)\n",
    "        update_pair_counts(pair_dict,i)\n",
    "        update_item_counts(item_count,i)\n",
    "        \n",
    "    for i in itemsets2:\n",
    "        update_pair_counts(pair_dict2,i)\n",
    "        update_item_counts(item_count2,i)\n",
    "        \n",
    "#    print('Ex 9 pair dict = ', pair_dict)\n",
    "#    print('Ex 9 item count = ', item_count)\n",
    "\n",
    "\n",
    "# Next get the confidence rules \n",
    "\n",
    "    source_rules = create_rules_from_counts(pair_dict, item_count)\n",
    "    source_rules2 = create_rules_from_counts(pair_dict2, item_count2)\n",
    "#    print('Source Rules = ', source_rules)\n",
    "    \n",
    "    \n",
    "    filtered_rules = filter_rules_by_conf2(source_rules, conf_threshold, min_count)\n",
    "    filtered_rules2 = filter_rules_by_conf2(source_rules2, conf_threshold, min_count)\n",
    "    print('Filtered Rules = ', filtered_rules)\n",
    "    print('Filtered Rules2 = ', filtered_rules2)\n",
    "\n",
    "    for i in filtered_rules2.keys():\n",
    "        filtered_rules[i] = filtered_rules2[i]\n",
    "    print('Filtered Rules new = ', filtered_rules)\n",
    "    return filtered_rules\n",
    "    ###\n",
    "common_rules(latin_text, english_text, make_itemsets_unstructured_text, 0.75, 0)"
   ]
  },
  {
   "cell_type": "markdown",
   "metadata": {
    "deletable": false,
    "editable": false,
    "nbgrader": {
     "grade": false,
     "locked": true,
     "solution": false
    },
    "tags": [
     "test_data_boilerplate"
    ]
   },
   "source": [
    "<!-- Test Cell Boilerplate -->\n",
    "The cell below will test your solution for Exercise 10. The testing variables will be available for debugging under the following names in a dictionary format.\n",
    "- `input_vars` - Input variables for your solution. \n",
    "- `original_input_vars` - Copy of input variables from prior to running your solution. These _should_ be the same as `input_vars` - otherwise the inputs were modified by your solution.\n",
    "- `returned_output_vars` - Outputs returned by your solution.\n",
    "- `true_output_vars` - The expected output. This _should_ \"match\" `returned_output_vars` based on the question requirements - otherwise, your solution is not returning the correct output. "
   ]
  },
  {
   "cell_type": "code",
   "execution_count": 35,
   "metadata": {
    "deletable": false,
    "editable": false,
    "nbgrader": {
     "grade": true,
     "grade_id": "ex10",
     "locked": true,
     "points": "2",
     "solution": false
    },
    "tags": []
   },
   "outputs": [
    {
     "name": "stdout",
     "output_type": "stream",
     "text": [
      "Filtered Rules =  {('meat spreads', 'yogurt'): 0.625, ('rice', 'whole milk'): 0.5957446808510638, ('abrasive cleaner', 'other vegetables'): 0.5416666666666666, ('cereals', 'whole milk'): 0.6216216216216216, ('curd', 'whole milk'): 0.5033557046979866, ('baking powder', 'whole milk'): 0.49411764705882355, ('herbs', 'whole milk'): 0.51, ('herbs', 'other vegetables'): 0.51, ('skin care', 'whole milk'): 0.5882352941176471, ('curd cheese', 'whole milk'): 0.5, ('rice', 'other vegetables'): 0.5319148936170213, ('specialty cheese', 'other vegetables'): 0.5, ('rubbing alcohol', 'bottled water'): 0.5, ('rubbing alcohol', 'root vegetables'): 0.5, ('rubbing alcohol', 'whole milk'): 0.625, ('rubbing alcohol', 'citrus fruit'): 0.625, ('rubbing alcohol', 'butter'): 0.5, ('rubbing alcohol', 'napkins'): 0.5, ('rubbing alcohol', 'hygiene articles'): 0.5, ('ready soups', 'rolls/buns'): 0.5, ('ready soups', 'root vegetables'): 0.5, ('ready soups', 'whole milk'): 0.5, ('toilet cleaner', 'whole milk'): 0.5, ('baby food', 'pip fruit'): 1.0, ('baby food', 'pasta'): 1.0, ('baby food', 'white bread'): 1.0, ('baby food', 'fruit/vegetable juice'): 1.0, ('baby food', 'cake bar'): 1.0, ('baby food', 'waffles'): 1.0, ('baby food', 'sausage'): 1.0, ('baby food', 'tropical fruit'): 1.0, ('baby food', 'finished products'): 1.0, ('baby food', 'yogurt'): 1.0, ('baby food', 'curd'): 1.0, ('baby food', 'pastry'): 1.0, ('baby food', 'butter milk'): 1.0, ('baby food', 'soft cheese'): 1.0, ('baby food', 'frozen vegetables'): 1.0, ('baby food', 'shopping bags'): 1.0, ('baby food', 'brown bread'): 1.0, ('baby food', 'chocolate'): 1.0, ('baby food', 'salty snack'): 1.0, ('baby food', 'soups'): 1.0, ('baby food', 'butter'): 1.0, ('baby food', 'whipped/sour cream'): 1.0, ('baby food', 'dessert'): 1.0, ('baby food', 'rolls/buns'): 1.0, ('baby food', 'other vegetables'): 1.0, ('house keeping products', 'whole milk'): 0.5, ('pudding powder', 'whole milk'): 0.7692307692307693, ('decalcifier', 'whole milk'): 0.6, ('snack products', 'soda'): 0.5, ('snack products', 'whole milk'): 0.5, ('cream', 'sausage'): 0.5555555555555556, ('salad dressing', 'onions'): 0.5, ('salad dressing', 'pork'): 0.5, ('salad dressing', 'citrus fruit'): 0.5, ('salad dressing', 'other vegetables'): 0.6666666666666666, ('cocoa drinks', 'whole milk'): 0.5714285714285714, ('frozen fruits', 'root vegetables'): 0.5, ('frozen fruits', 'other vegetables'): 0.75, ('sound storage medium', 'bottled water'): 1.0, ('sound storage medium', 'shopping bags'): 1.0, ('sound storage medium', 'frozen potato products'): 1.0, ('sound storage medium', 'cat food'): 1.0, ('sound storage medium', 'soda'): 1.0, ('sound storage medium', 'ham'): 1.0, ('sound storage medium', 'white bread'): 1.0, ('sound storage medium', 'pastry'): 1.0, ('sound storage medium', 'candy'): 1.0, ('baby cosmetics', 'rolls/buns'): 1.0, ('baby cosmetics', 'root vegetables'): 0.5, ('baby cosmetics', 'chicken'): 0.5, ('baby cosmetics', 'soda'): 1.0, ('baby cosmetics', 'dish cleaner'): 1.0, ('baby cosmetics', 'whole milk'): 0.5, ('baby cosmetics', 'kitchen towels'): 0.5, ('baby cosmetics', 'butter milk'): 0.5, ('tidbits', 'rolls/buns'): 0.5333333333333333, ('make up remover', 'salty snack'): 0.6666666666666666, ('make up remover', 'pastry'): 0.6666666666666666, ('honey', 'whole milk'): 0.8, ('frozen chicken', 'frozen vegetables'): 0.6666666666666666, ('frozen chicken', 'whole milk'): 0.6666666666666666, ('frozen chicken', 'yogurt'): 0.6666666666666666, ('frozen chicken', 'butter'): 0.6666666666666666, ('kitchen utensil', 'onions'): 0.6666666666666666, ('kitchen utensil', 'whole milk'): 1.0, ('kitchen utensil', 'yogurt'): 0.6666666666666666, ('kitchen utensil', 'pastry'): 0.6666666666666666, ('frozen fruits', 'whipped/sour cream'): 0.5, ('kitchen utensil', 'tropical fruit'): 0.6666666666666666, ('kitchen utensil', 'berries'): 0.6666666666666666, ('make up remover', 'soda'): 0.6666666666666666, ('baby cosmetics', 'cookware'): 0.5, ('baby cosmetics', 'mustard'): 0.5, ('baby cosmetics', 'waffles'): 0.5, ('baby cosmetics', 'tropical fruit'): 0.5, ('baby cosmetics', 'canned beer'): 0.5, ('baby cosmetics', 'oil'): 0.5, ('baby cosmetics', 'citrus fruit'): 0.5, ('baby cosmetics', 'syrup'): 0.5, ('baby cosmetics', 'chocolate'): 0.5, ('baby cosmetics', 'specialty bar'): 0.5, ('baby cosmetics', 'soups'): 0.5, ('baby cosmetics', 'sweet spreads'): 0.5, ('liqueur', 'ice cream'): 0.5, ('liqueur', 'shopping bags'): 0.5, ('liqueur', 'oil'): 0.5, ('liqueur', 'specialty chocolate'): 0.5, ('liqueur', 'other vegetables'): 0.5, ('preservation products', 'onions'): 1.0, ('preservation products', 'dish cleaner'): 1.0, ('preservation products', 'cream cheese '): 1.0, ('preservation products', 'other vegetables'): 1.0, ('preservation products', 'mustard'): 1.0, ('preservation products', 'waffles'): 1.0, ('preservation products', 'cocoa drinks'): 1.0, ('preservation products', 'ice cream'): 1.0, ('preservation products', 'hygiene articles'): 1.0, ('preservation products', 'abrasive cleaner'): 1.0, ('preservation products', 'frozen vegetables'): 1.0, ('preservation products', 'long life bakery product'): 1.0, ('preservation products', 'mayonnaise'): 1.0, ('preservation products', 'chocolate'): 1.0, ('preservation products', 'coffee'): 1.0, ('preservation products', 'whipped/sour cream'): 1.0, ('preservation products', 'grapes'): 1.0, ('preservation products', 'citrus fruit'): 1.0, ('preservation products', 'candy'): 1.0, ('preservation products', 'spices'): 1.0}\n",
      "Filtered Rules2 =  {('cereals', 'whole milk'): 0.7096774193548387, ('butter', 'whole milk'): 0.5031847133757962, ('tea', 'whole milk'): 0.5, ('baking powder', 'whole milk'): 0.5339805825242718, ('specialty cheese', 'other vegetables'): 0.5471698113207547, ('roll products ', 'other vegetables'): 0.5, ('rice', 'whole milk'): 0.6428571428571429, ('rice', 'other vegetables'): 0.5476190476190477, ('honey', 'whole milk'): 0.5714285714285714, ('baby cosmetics', 'whipped/sour cream'): 0.5, ('baby cosmetics', 'dessert'): 0.5, ('baby cosmetics', 'long life bakery product'): 0.5, ('baby cosmetics', 'whole milk'): 1.0, ('baby cosmetics', 'pip fruit'): 0.5, ('baby cosmetics', 'ham'): 0.5, ('baby cosmetics', 'curd'): 0.5, ('baby cosmetics', 'cream cheese '): 0.5, ('baby cosmetics', 'chocolate'): 0.5, ('baby cosmetics', 'white bread'): 0.5, ('baby cosmetics', 'butter milk'): 0.5, ('baby cosmetics', 'sliced cheese'): 0.5, ('baby cosmetics', 'coffee'): 0.5, ('baby food', 'pip fruit'): 1.0, ('baby food', 'pasta'): 1.0, ('baby food', 'white bread'): 1.0, ('baby food', 'fruit/vegetable juice'): 1.0, ('baby food', 'cake bar'): 1.0, ('baby food', 'waffles'): 1.0, ('baby food', 'sausage'): 1.0, ('baby food', 'tropical fruit'): 1.0, ('baby food', 'finished products'): 1.0, ('baby food', 'yogurt'): 1.0, ('baby food', 'curd'): 1.0, ('baby food', 'pastry'): 1.0, ('baby food', 'butter milk'): 1.0, ('baby food', 'soft cheese'): 1.0, ('baby food', 'frozen vegetables'): 1.0, ('baby food', 'shopping bags'): 1.0, ('baby food', 'brown bread'): 1.0, ('baby food', 'chocolate'): 1.0, ('baby food', 'salty snack'): 1.0, ('baby food', 'soups'): 1.0, ('baby food', 'butter'): 1.0, ('baby food', 'whipped/sour cream'): 1.0, ('baby food', 'dessert'): 1.0, ('baby food', 'rolls/buns'): 1.0, ('baby food', 'other vegetables'): 1.0, ('tidbits', 'soda'): 0.5384615384615384, ('house keeping products', 'whole milk'): 0.5094339622641509, ('turkey', 'whole milk'): 0.5098039215686274, ('pudding powder', 'whole milk'): 0.5384615384615384, ('cream', 'sausage'): 0.5454545454545454, ('salad dressing', 'pork'): 0.6666666666666666, ('cooking chocolate', 'whole milk'): 0.5625, ('rubbing alcohol', 'whole milk'): 0.5714285714285714, ('ready soups', 'soda'): 0.5555555555555556, ('frozen fruits', 'whipped/sour cream'): 0.5714285714285714, ('frozen fruits', 'other vegetables'): 0.8571428571428571, ('frozen chicken', 'salty snack'): 0.5, ('sound storage medium', 'bottled water'): 1.0, ('sound storage medium', 'shopping bags'): 1.0, ('sound storage medium', 'frozen potato products'): 1.0, ('sound storage medium', 'cat food'): 1.0, ('sound storage medium', 'soda'): 1.0, ('sound storage medium', 'ham'): 1.0, ('sound storage medium', 'white bread'): 1.0, ('sound storage medium', 'pastry'): 1.0, ('sound storage medium', 'candy'): 1.0, ('toilet cleaner', 'dental care'): 0.5, ('toilet cleaner', 'pork'): 0.5, ('make up remover', 'soda'): 0.6, ('kitchen utensil', 'onions'): 0.5, ('kitchen utensil', 'whole milk'): 0.75, ('kitchen utensil', 'yogurt'): 0.5, ('kitchen utensil', 'pastry'): 0.5, ('cocoa drinks', 'whole milk'): 0.5, ('toilet cleaner', 'root vegetables'): 0.5, ('toilet cleaner', 'beef'): 0.5, ('ready soups', 'whole milk'): 0.5555555555555556, ('baby cosmetics', 'hamburger meat'): 0.5, ('baby cosmetics', 'cream'): 0.5, ('baby cosmetics', 'canned beer'): 0.5, ('baby cosmetics', 'oil'): 0.5, ('baby cosmetics', 'sugar'): 0.5, ('baby cosmetics', 'baking powder'): 0.5, ('baby cosmetics', 'other vegetables'): 0.5, ('kitchen utensil', 'tropical fruit'): 0.5, ('kitchen utensil', 'berries'): 0.5, ('preservation products', 'onions'): 1.0, ('preservation products', 'dish cleaner'): 1.0, ('preservation products', 'cream cheese '): 1.0, ('preservation products', 'other vegetables'): 1.0, ('preservation products', 'mustard'): 1.0, ('preservation products', 'waffles'): 1.0, ('preservation products', 'cocoa drinks'): 1.0, ('preservation products', 'ice cream'): 1.0, ('preservation products', 'hygiene articles'): 1.0, ('preservation products', 'abrasive cleaner'): 1.0, ('preservation products', 'frozen vegetables'): 1.0, ('preservation products', 'long life bakery product'): 1.0, ('preservation products', 'mayonnaise'): 1.0, ('preservation products', 'chocolate'): 1.0, ('preservation products', 'coffee'): 1.0, ('preservation products', 'whipped/sour cream'): 1.0, ('preservation products', 'grapes'): 1.0, ('preservation products', 'citrus fruit'): 1.0, ('preservation products', 'candy'): 1.0, ('preservation products', 'spices'): 1.0, ('toilet cleaner', 'newspapers'): 0.5}\n",
      "Filtered Rules new =  {('meat spreads', 'yogurt'): 0.625, ('rice', 'whole milk'): 0.6428571428571429, ('abrasive cleaner', 'other vegetables'): 0.5416666666666666, ('cereals', 'whole milk'): 0.7096774193548387, ('curd', 'whole milk'): 0.5033557046979866, ('baking powder', 'whole milk'): 0.5339805825242718, ('herbs', 'whole milk'): 0.51, ('herbs', 'other vegetables'): 0.51, ('skin care', 'whole milk'): 0.5882352941176471, ('curd cheese', 'whole milk'): 0.5, ('rice', 'other vegetables'): 0.5476190476190477, ('specialty cheese', 'other vegetables'): 0.5471698113207547, ('rubbing alcohol', 'bottled water'): 0.5, ('rubbing alcohol', 'root vegetables'): 0.5, ('rubbing alcohol', 'whole milk'): 0.5714285714285714, ('rubbing alcohol', 'citrus fruit'): 0.625, ('rubbing alcohol', 'butter'): 0.5, ('rubbing alcohol', 'napkins'): 0.5, ('rubbing alcohol', 'hygiene articles'): 0.5, ('ready soups', 'rolls/buns'): 0.5, ('ready soups', 'root vegetables'): 0.5, ('ready soups', 'whole milk'): 0.5555555555555556, ('toilet cleaner', 'whole milk'): 0.5, ('baby food', 'pip fruit'): 1.0, ('baby food', 'pasta'): 1.0, ('baby food', 'white bread'): 1.0, ('baby food', 'fruit/vegetable juice'): 1.0, ('baby food', 'cake bar'): 1.0, ('baby food', 'waffles'): 1.0, ('baby food', 'sausage'): 1.0, ('baby food', 'tropical fruit'): 1.0, ('baby food', 'finished products'): 1.0, ('baby food', 'yogurt'): 1.0, ('baby food', 'curd'): 1.0, ('baby food', 'pastry'): 1.0, ('baby food', 'butter milk'): 1.0, ('baby food', 'soft cheese'): 1.0, ('baby food', 'frozen vegetables'): 1.0, ('baby food', 'shopping bags'): 1.0, ('baby food', 'brown bread'): 1.0, ('baby food', 'chocolate'): 1.0, ('baby food', 'salty snack'): 1.0, ('baby food', 'soups'): 1.0, ('baby food', 'butter'): 1.0, ('baby food', 'whipped/sour cream'): 1.0, ('baby food', 'dessert'): 1.0, ('baby food', 'rolls/buns'): 1.0, ('baby food', 'other vegetables'): 1.0, ('house keeping products', 'whole milk'): 0.5094339622641509, ('pudding powder', 'whole milk'): 0.5384615384615384, ('decalcifier', 'whole milk'): 0.6, ('snack products', 'soda'): 0.5, ('snack products', 'whole milk'): 0.5, ('cream', 'sausage'): 0.5454545454545454, ('salad dressing', 'onions'): 0.5, ('salad dressing', 'pork'): 0.6666666666666666, ('salad dressing', 'citrus fruit'): 0.5, ('salad dressing', 'other vegetables'): 0.6666666666666666, ('cocoa drinks', 'whole milk'): 0.5, ('frozen fruits', 'root vegetables'): 0.5, ('frozen fruits', 'other vegetables'): 0.8571428571428571, ('sound storage medium', 'bottled water'): 1.0, ('sound storage medium', 'shopping bags'): 1.0, ('sound storage medium', 'frozen potato products'): 1.0, ('sound storage medium', 'cat food'): 1.0, ('sound storage medium', 'soda'): 1.0, ('sound storage medium', 'ham'): 1.0, ('sound storage medium', 'white bread'): 1.0, ('sound storage medium', 'pastry'): 1.0, ('sound storage medium', 'candy'): 1.0, ('baby cosmetics', 'rolls/buns'): 1.0, ('baby cosmetics', 'root vegetables'): 0.5, ('baby cosmetics', 'chicken'): 0.5, ('baby cosmetics', 'soda'): 1.0, ('baby cosmetics', 'dish cleaner'): 1.0, ('baby cosmetics', 'whole milk'): 1.0, ('baby cosmetics', 'kitchen towels'): 0.5, ('baby cosmetics', 'butter milk'): 0.5, ('tidbits', 'rolls/buns'): 0.5333333333333333, ('make up remover', 'salty snack'): 0.6666666666666666, ('make up remover', 'pastry'): 0.6666666666666666, ('honey', 'whole milk'): 0.5714285714285714, ('frozen chicken', 'frozen vegetables'): 0.6666666666666666, ('frozen chicken', 'whole milk'): 0.6666666666666666, ('frozen chicken', 'yogurt'): 0.6666666666666666, ('frozen chicken', 'butter'): 0.6666666666666666, ('kitchen utensil', 'onions'): 0.5, ('kitchen utensil', 'whole milk'): 0.75, ('kitchen utensil', 'yogurt'): 0.5, ('kitchen utensil', 'pastry'): 0.5, ('frozen fruits', 'whipped/sour cream'): 0.5714285714285714, ('kitchen utensil', 'tropical fruit'): 0.5, ('kitchen utensil', 'berries'): 0.5, ('make up remover', 'soda'): 0.6, ('baby cosmetics', 'cookware'): 0.5, ('baby cosmetics', 'mustard'): 0.5, ('baby cosmetics', 'waffles'): 0.5, ('baby cosmetics', 'tropical fruit'): 0.5, ('baby cosmetics', 'canned beer'): 0.5, ('baby cosmetics', 'oil'): 0.5, ('baby cosmetics', 'citrus fruit'): 0.5, ('baby cosmetics', 'syrup'): 0.5, ('baby cosmetics', 'chocolate'): 0.5, ('baby cosmetics', 'specialty bar'): 0.5, ('baby cosmetics', 'soups'): 0.5, ('baby cosmetics', 'sweet spreads'): 0.5, ('liqueur', 'ice cream'): 0.5, ('liqueur', 'shopping bags'): 0.5, ('liqueur', 'oil'): 0.5, ('liqueur', 'specialty chocolate'): 0.5, ('liqueur', 'other vegetables'): 0.5, ('preservation products', 'onions'): 1.0, ('preservation products', 'dish cleaner'): 1.0, ('preservation products', 'cream cheese '): 1.0, ('preservation products', 'other vegetables'): 1.0, ('preservation products', 'mustard'): 1.0, ('preservation products', 'waffles'): 1.0, ('preservation products', 'cocoa drinks'): 1.0, ('preservation products', 'ice cream'): 1.0, ('preservation products', 'hygiene articles'): 1.0, ('preservation products', 'abrasive cleaner'): 1.0, ('preservation products', 'frozen vegetables'): 1.0, ('preservation products', 'long life bakery product'): 1.0, ('preservation products', 'mayonnaise'): 1.0, ('preservation products', 'chocolate'): 1.0, ('preservation products', 'coffee'): 1.0, ('preservation products', 'whipped/sour cream'): 1.0, ('preservation products', 'grapes'): 1.0, ('preservation products', 'citrus fruit'): 1.0, ('preservation products', 'candy'): 1.0, ('preservation products', 'spices'): 1.0, ('butter', 'whole milk'): 0.5031847133757962, ('tea', 'whole milk'): 0.5, ('roll products ', 'other vegetables'): 0.5, ('baby cosmetics', 'whipped/sour cream'): 0.5, ('baby cosmetics', 'dessert'): 0.5, ('baby cosmetics', 'long life bakery product'): 0.5, ('baby cosmetics', 'pip fruit'): 0.5, ('baby cosmetics', 'ham'): 0.5, ('baby cosmetics', 'curd'): 0.5, ('baby cosmetics', 'cream cheese '): 0.5, ('baby cosmetics', 'white bread'): 0.5, ('baby cosmetics', 'sliced cheese'): 0.5, ('baby cosmetics', 'coffee'): 0.5, ('tidbits', 'soda'): 0.5384615384615384, ('turkey', 'whole milk'): 0.5098039215686274, ('cooking chocolate', 'whole milk'): 0.5625, ('ready soups', 'soda'): 0.5555555555555556, ('frozen chicken', 'salty snack'): 0.5, ('toilet cleaner', 'dental care'): 0.5, ('toilet cleaner', 'pork'): 0.5, ('toilet cleaner', 'root vegetables'): 0.5, ('toilet cleaner', 'beef'): 0.5, ('baby cosmetics', 'hamburger meat'): 0.5, ('baby cosmetics', 'cream'): 0.5, ('baby cosmetics', 'sugar'): 0.5, ('baby cosmetics', 'baking powder'): 0.5, ('baby cosmetics', 'other vegetables'): 0.5, ('toilet cleaner', 'newspapers'): 0.5}\n"
     ]
    },
    {
     "ename": "AssertionError",
     "evalue": "Type <class 'set'> is required for output_0 but <class 'dict'> was returned.",
     "output_type": "error",
     "traceback": [
      "\u001b[0;31m---------------------------------------------------------------------------\u001b[0m",
      "\u001b[0;31mAssertionError\u001b[0m                            Traceback (most recent call last)",
      "\u001b[0;32m<ipython-input-35-8855f8e8d794>\u001b[0m in \u001b[0;36m<module>\u001b[0;34m\u001b[0m\n\u001b[1;32m     43\u001b[0m \u001b[0;32mfor\u001b[0m \u001b[0m_\u001b[0m \u001b[0;32min\u001b[0m \u001b[0mrange\u001b[0m\u001b[0;34m(\u001b[0m\u001b[0;36m70\u001b[0m\u001b[0;34m)\u001b[0m\u001b[0;34m:\u001b[0m\u001b[0;34m\u001b[0m\u001b[0;34m\u001b[0m\u001b[0m\n\u001b[1;32m     44\u001b[0m     \u001b[0;32mtry\u001b[0m\u001b[0;34m:\u001b[0m\u001b[0;34m\u001b[0m\u001b[0;34m\u001b[0m\u001b[0m\n\u001b[0;32m---> 45\u001b[0;31m         \u001b[0mtester\u001b[0m\u001b[0;34m.\u001b[0m\u001b[0mrun_test\u001b[0m\u001b[0;34m(\u001b[0m\u001b[0;34m)\u001b[0m\u001b[0;34m\u001b[0m\u001b[0;34m\u001b[0m\u001b[0m\n\u001b[0m\u001b[1;32m     46\u001b[0m         \u001b[0;34m(\u001b[0m\u001b[0minput_vars\u001b[0m\u001b[0;34m,\u001b[0m \u001b[0moriginal_input_vars\u001b[0m\u001b[0;34m,\u001b[0m \u001b[0mreturned_output_vars\u001b[0m\u001b[0;34m,\u001b[0m \u001b[0mtrue_output_vars\u001b[0m\u001b[0;34m)\u001b[0m \u001b[0;34m=\u001b[0m \u001b[0mtester\u001b[0m\u001b[0;34m.\u001b[0m\u001b[0mget_test_vars\u001b[0m\u001b[0;34m(\u001b[0m\u001b[0;34m)\u001b[0m\u001b[0;34m\u001b[0m\u001b[0;34m\u001b[0m\u001b[0m\n\u001b[1;32m     47\u001b[0m     \u001b[0;32mexcept\u001b[0m\u001b[0;34m:\u001b[0m\u001b[0;34m\u001b[0m\u001b[0;34m\u001b[0m\u001b[0m\n",
      "\u001b[0;32m~/tester_fw/testers.py\u001b[0m in \u001b[0;36mrun_test\u001b[0;34m(self, func)\u001b[0m\n\u001b[1;32m     39\u001b[0m \u001b[0;34m\u001b[0m\u001b[0m\n\u001b[1;32m     40\u001b[0m     \u001b[0;32mdef\u001b[0m \u001b[0mrun_test\u001b[0m\u001b[0;34m(\u001b[0m\u001b[0mself\u001b[0m\u001b[0;34m,\u001b[0m \u001b[0mfunc\u001b[0m\u001b[0;34m=\u001b[0m\u001b[0;32mNone\u001b[0m\u001b[0;34m)\u001b[0m\u001b[0;34m:\u001b[0m\u001b[0;34m\u001b[0m\u001b[0;34m\u001b[0m\u001b[0m\n\u001b[0;32m---> 41\u001b[0;31m         \u001b[0;32mreturn\u001b[0m \u001b[0msuper\u001b[0m\u001b[0;34m(\u001b[0m\u001b[0;34m)\u001b[0m\u001b[0;34m.\u001b[0m\u001b[0mrun_test\u001b[0m\u001b[0;34m(\u001b[0m\u001b[0mself\u001b[0m\u001b[0;34m.\u001b[0m\u001b[0mfunc\u001b[0m\u001b[0;34m)\u001b[0m\u001b[0;34m\u001b[0m\u001b[0;34m\u001b[0m\u001b[0m\n\u001b[0m\u001b[1;32m     42\u001b[0m \u001b[0;34m\u001b[0m\u001b[0m\n\u001b[1;32m     43\u001b[0m     \u001b[0;32mdef\u001b[0m \u001b[0mbuild_vars\u001b[0m\u001b[0;34m(\u001b[0m\u001b[0mself\u001b[0m\u001b[0;34m)\u001b[0m\u001b[0;34m:\u001b[0m\u001b[0;34m\u001b[0m\u001b[0;34m\u001b[0m\u001b[0m\n",
      "\u001b[0;32m~/tester_fw/__init__.py\u001b[0m in \u001b[0;36mrun_test\u001b[0;34m(self, func)\u001b[0m\n\u001b[1;32m     42\u001b[0m         \u001b[0;32mif\u001b[0m \u001b[0mself\u001b[0m\u001b[0;34m.\u001b[0m\u001b[0mprevent_mod\u001b[0m\u001b[0;34m:\u001b[0m     \u001b[0;31m#  - can disable by setting `prevent_mod`to `False` in constructor\u001b[0m\u001b[0;34m\u001b[0m\u001b[0;34m\u001b[0m\u001b[0m\n\u001b[1;32m     43\u001b[0m             \u001b[0mself\u001b[0m\u001b[0;34m.\u001b[0m\u001b[0mcheck_modified\u001b[0m\u001b[0;34m(\u001b[0m\u001b[0;34m)\u001b[0m    \u001b[0;31m# Check to verify inputs were not modified\u001b[0m\u001b[0;34m\u001b[0m\u001b[0;34m\u001b[0m\u001b[0m\n\u001b[0;32m---> 44\u001b[0;31m         \u001b[0mself\u001b[0m\u001b[0;34m.\u001b[0m\u001b[0mcheck_type\u001b[0m\u001b[0;34m(\u001b[0m\u001b[0;34m)\u001b[0m        \u001b[0;31m# Check to verify correct output types\u001b[0m\u001b[0;34m\u001b[0m\u001b[0;34m\u001b[0m\u001b[0m\n\u001b[0m\u001b[1;32m     45\u001b[0m         \u001b[0mself\u001b[0m\u001b[0;34m.\u001b[0m\u001b[0mcheck_matches\u001b[0m\u001b[0;34m(\u001b[0m\u001b[0;34m)\u001b[0m     \u001b[0;31m# Check to verify correct output\u001b[0m\u001b[0;34m\u001b[0m\u001b[0;34m\u001b[0m\u001b[0m\n\u001b[1;32m     46\u001b[0m \u001b[0;34m\u001b[0m\u001b[0m\n",
      "\u001b[0;32m~/tester_fw/testers.py\u001b[0m in \u001b[0;36mcheck_type\u001b[0;34m(self)\u001b[0m\n\u001b[1;32m     74\u001b[0m             \u001b[0;32mif\u001b[0m \u001b[0;34m(\u001b[0m\u001b[0mt\u001b[0m \u001b[0;32mis\u001b[0m \u001b[0;32mNone\u001b[0m\u001b[0;34m)\u001b[0m \u001b[0;32mor\u001b[0m \u001b[0;34m(\u001b[0m\u001b[0mt\u001b[0m \u001b[0;34m==\u001b[0m \u001b[0;34m''\u001b[0m\u001b[0;34m)\u001b[0m\u001b[0;34m:\u001b[0m \u001b[0;32mcontinue\u001b[0m\u001b[0;34m\u001b[0m\u001b[0;34m\u001b[0m\u001b[0m\n\u001b[1;32m     75\u001b[0m             \u001b[0mo\u001b[0m \u001b[0;34m=\u001b[0m \u001b[0mself\u001b[0m\u001b[0;34m.\u001b[0m\u001b[0mreturned_output_vars\u001b[0m\u001b[0;34m[\u001b[0m\u001b[0mout_key\u001b[0m\u001b[0;34m]\u001b[0m\u001b[0;34m\u001b[0m\u001b[0;34m\u001b[0m\u001b[0m\n\u001b[0;32m---> 76\u001b[0;31m             \u001b[0;32massert\u001b[0m \u001b[0misinstance\u001b[0m\u001b[0;34m(\u001b[0m\u001b[0mo\u001b[0m\u001b[0;34m,\u001b[0m \u001b[0mt\u001b[0m\u001b[0;34m)\u001b[0m\u001b[0;34m,\u001b[0m \u001b[0;34mf'Type {\" or \".join(str(t_) for t_ in t)} is required for {out_key} but {str(type(o))} was returned.'\u001b[0m\u001b[0;34m\u001b[0m\u001b[0;34m\u001b[0m\u001b[0m\n\u001b[0m\u001b[1;32m     77\u001b[0m \u001b[0;34m\u001b[0m\u001b[0m\n\u001b[1;32m     78\u001b[0m     \u001b[0;32mdef\u001b[0m \u001b[0mcheck_matches\u001b[0m\u001b[0;34m(\u001b[0m\u001b[0mself\u001b[0m\u001b[0;34m)\u001b[0m\u001b[0;34m:\u001b[0m\u001b[0;34m\u001b[0m\u001b[0;34m\u001b[0m\u001b[0m\n",
      "\u001b[0;31mAssertionError\u001b[0m: Type <class 'set'> is required for output_0 but <class 'dict'> was returned."
     ]
    }
   ],
   "source": [
    "### test_cell_ex10\n",
    "from tester_fw.testers import Tester\n",
    "\n",
    "conf = {\n",
    "    'case_file':'tc_10', \n",
    "    'func': common_rules, # replace this with the function defined above\n",
    "    'inputs':{ # input config dict. keys are parameter names\n",
    "        'source_0':{\n",
    "            'dtype':'str', # data type of param.\n",
    "            'check_modified':False,\n",
    "        },\n",
    "        'source_1':{\n",
    "            'dtype':'str', # data type of param.\n",
    "            'check_modified':False,\n",
    "        },\n",
    "        'itemset_maker':{\n",
    "            'dtype':'function', # data type of param.\n",
    "            'check_modified':False,\n",
    "        },\n",
    "        'conf_threshold':{\n",
    "            'dtype':'float', # data type of param.\n",
    "            'check_modified':False,\n",
    "        },\n",
    "        'min_count':{\n",
    "            'dtype':'str', # data type of param.\n",
    "            'check_modified':False,\n",
    "        }\n",
    "    },\n",
    "    'outputs':{\n",
    "        'output_0':{\n",
    "            'index':0,\n",
    "            'dtype':'set',\n",
    "            'check_dtype': True,\n",
    "            'check_col_dtypes': False, # Ignored if dtype is not df\n",
    "            'check_col_order': False, # Ignored if dtype is not df\n",
    "            'check_row_order': False, # Ignored if dtype is not df\n",
    "            'check_column_type': False, # Ignored if dtype is not df\n",
    "            'float_tolerance': 10 ** (-6)\n",
    "        }\n",
    "    }\n",
    "}\n",
    "tester = Tester(conf, key=b's63L2lglDfBJpcKzxpwcyy61HyKnJNBOJXl9BMyWhyo=', path='resource/asnlib/publicdata/')\n",
    "for _ in range(70):\n",
    "    try:\n",
    "        tester.run_test()\n",
    "        (input_vars, original_input_vars, returned_output_vars, true_output_vars) = tester.get_test_vars()\n",
    "    except:\n",
    "        (input_vars, original_input_vars, returned_output_vars, true_output_vars) = tester.get_test_vars()\n",
    "        raise\n",
    "\n",
    "print('Passed! Please submit.')"
   ]
  },
  {
   "cell_type": "markdown",
   "metadata": {
    "deletable": false,
    "editable": false,
    "nbgrader": {
     "grade": false,
     "locked": true,
     "solution": false
    },
    "tags": [
     "fin"
    ]
   },
   "source": [
    "**Fin.** If you have made it this far, congratulations on completing the assignment. **Don't forget to submit!**"
   ]
  }
 ],
 "metadata": {
  "kernelspec": {
   "display_name": "Python 3.8",
   "language": "python",
   "name": "python38"
  },
  "language_info": {
   "codemirror_mode": {
    "name": "ipython",
    "version": 3
   },
   "file_extension": ".py",
   "mimetype": "text/x-python",
   "name": "python",
   "nbconvert_exporter": "python",
   "pygments_lexer": "ipython3",
   "version": "3.8.7"
  },
  "vscode": {
   "interpreter": {
    "hash": "916dbcbb3f70747c44a77c7bcd40155683ae19c65e1c03b4aa3499c5328201f1"
   }
  }
 },
 "nbformat": 4,
 "nbformat_minor": 5
}
